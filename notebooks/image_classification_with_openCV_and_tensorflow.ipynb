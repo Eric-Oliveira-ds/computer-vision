{
 "cells": [
  {
   "attachments": {},
   "cell_type": "markdown",
   "metadata": {},
   "source": [
    "# Classificação de imagens com openCV e tensorflow\n",
    "- (RNA)"
   ]
  },
  {
   "attachments": {},
   "cell_type": "markdown",
   "metadata": {},
   "source": [
    "## Libs"
   ]
  },
  {
   "cell_type": "code",
   "execution_count": 21,
   "metadata": {},
   "outputs": [],
   "source": [
    "import cv2\n",
    "import numpy as np\n",
    "import os \n",
    "import zipfile \n",
    "from matplotlib import pyplot as plt \n",
    "import pandas as pd \n",
    "import seaborn as sns \n",
    "import tensorflow as tf\n",
    "from sklearn.preprocessing import MinMaxScaler"
   ]
  },
  {
   "cell_type": "code",
   "execution_count": 2,
   "metadata": {},
   "outputs": [
    {
     "data": {
      "text/plain": [
       "'2.12.0'"
      ]
     },
     "execution_count": 2,
     "metadata": {},
     "output_type": "execute_result"
    }
   ],
   "source": [
    "tf.__version__"
   ]
  },
  {
   "attachments": {},
   "cell_type": "markdown",
   "metadata": {},
   "source": [
    "## Extração dos dados não estruturados"
   ]
  },
  {
   "cell_type": "code",
   "execution_count": 3,
   "metadata": {},
   "outputs": [],
   "source": [
    "# Extração dos pixels da imagem\n",
    "path = '/home/eric/projetos pessoais/computer-vision/Visão Computacional Guia Completo/Datasets/homer_bart_1.zip'\n",
    "zip_obj = zipfile.ZipFile(path, mode='r')\n",
    "zip_obj.extractall('./')\n",
    "zip_obj.close()"
   ]
  },
  {
   "cell_type": "code",
   "execution_count": 4,
   "metadata": {},
   "outputs": [],
   "source": [
    "diretorio = '/home/eric/projetos pessoais/computer-vision/notebooks/homer_bart_1'\n",
    "\n",
    "arquivos = [os.path.join(diretorio, f) for f in sorted(os.listdir(diretorio))]"
   ]
  },
  {
   "cell_type": "code",
   "execution_count": 5,
   "metadata": {},
   "outputs": [
    {
     "name": "stdout",
     "output_type": "stream",
     "text": [
      "['/home/eric/projetos pessoais/computer-vision/notebooks/homer_bart_1/.DS_Store', '/home/eric/projetos pessoais/computer-vision/notebooks/homer_bart_1/bart1.bmp', '/home/eric/projetos pessoais/computer-vision/notebooks/homer_bart_1/bart10.bmp', '/home/eric/projetos pessoais/computer-vision/notebooks/homer_bart_1/bart100.bmp', '/home/eric/projetos pessoais/computer-vision/notebooks/homer_bart_1/bart101.bmp', '/home/eric/projetos pessoais/computer-vision/notebooks/homer_bart_1/bart102.bmp', '/home/eric/projetos pessoais/computer-vision/notebooks/homer_bart_1/bart103.bmp', '/home/eric/projetos pessoais/computer-vision/notebooks/homer_bart_1/bart104.bmp', '/home/eric/projetos pessoais/computer-vision/notebooks/homer_bart_1/bart105.bmp', '/home/eric/projetos pessoais/computer-vision/notebooks/homer_bart_1/bart106.bmp', '/home/eric/projetos pessoais/computer-vision/notebooks/homer_bart_1/bart108.bmp', '/home/eric/projetos pessoais/computer-vision/notebooks/homer_bart_1/bart109.bmp', '/home/eric/projetos pessoais/computer-vision/notebooks/homer_bart_1/bart11.bmp', '/home/eric/projetos pessoais/computer-vision/notebooks/homer_bart_1/bart110.bmp', '/home/eric/projetos pessoais/computer-vision/notebooks/homer_bart_1/bart111.bmp', '/home/eric/projetos pessoais/computer-vision/notebooks/homer_bart_1/bart112.bmp', '/home/eric/projetos pessoais/computer-vision/notebooks/homer_bart_1/bart113.bmp', '/home/eric/projetos pessoais/computer-vision/notebooks/homer_bart_1/bart114.bmp', '/home/eric/projetos pessoais/computer-vision/notebooks/homer_bart_1/bart115.bmp', '/home/eric/projetos pessoais/computer-vision/notebooks/homer_bart_1/bart116.bmp', '/home/eric/projetos pessoais/computer-vision/notebooks/homer_bart_1/bart117.bmp', '/home/eric/projetos pessoais/computer-vision/notebooks/homer_bart_1/bart118.bmp', '/home/eric/projetos pessoais/computer-vision/notebooks/homer_bart_1/bart119.bmp', '/home/eric/projetos pessoais/computer-vision/notebooks/homer_bart_1/bart12.bmp', '/home/eric/projetos pessoais/computer-vision/notebooks/homer_bart_1/bart120.bmp', '/home/eric/projetos pessoais/computer-vision/notebooks/homer_bart_1/bart121.bmp', '/home/eric/projetos pessoais/computer-vision/notebooks/homer_bart_1/bart122.bmp', '/home/eric/projetos pessoais/computer-vision/notebooks/homer_bart_1/bart123.bmp', '/home/eric/projetos pessoais/computer-vision/notebooks/homer_bart_1/bart124.bmp', '/home/eric/projetos pessoais/computer-vision/notebooks/homer_bart_1/bart125.bmp', '/home/eric/projetos pessoais/computer-vision/notebooks/homer_bart_1/bart126.bmp', '/home/eric/projetos pessoais/computer-vision/notebooks/homer_bart_1/bart127.bmp', '/home/eric/projetos pessoais/computer-vision/notebooks/homer_bart_1/bart128.bmp', '/home/eric/projetos pessoais/computer-vision/notebooks/homer_bart_1/bart13.bmp', '/home/eric/projetos pessoais/computer-vision/notebooks/homer_bart_1/bart130.bmp', '/home/eric/projetos pessoais/computer-vision/notebooks/homer_bart_1/bart131.bmp', '/home/eric/projetos pessoais/computer-vision/notebooks/homer_bart_1/bart132.bmp', '/home/eric/projetos pessoais/computer-vision/notebooks/homer_bart_1/bart133.bmp', '/home/eric/projetos pessoais/computer-vision/notebooks/homer_bart_1/bart134.bmp', '/home/eric/projetos pessoais/computer-vision/notebooks/homer_bart_1/bart135.bmp', '/home/eric/projetos pessoais/computer-vision/notebooks/homer_bart_1/bart136.bmp', '/home/eric/projetos pessoais/computer-vision/notebooks/homer_bart_1/bart137.bmp', '/home/eric/projetos pessoais/computer-vision/notebooks/homer_bart_1/bart138.bmp', '/home/eric/projetos pessoais/computer-vision/notebooks/homer_bart_1/bart139.bmp', '/home/eric/projetos pessoais/computer-vision/notebooks/homer_bart_1/bart14.bmp', '/home/eric/projetos pessoais/computer-vision/notebooks/homer_bart_1/bart141.bmp', '/home/eric/projetos pessoais/computer-vision/notebooks/homer_bart_1/bart142.bmp', '/home/eric/projetos pessoais/computer-vision/notebooks/homer_bart_1/bart143.bmp', '/home/eric/projetos pessoais/computer-vision/notebooks/homer_bart_1/bart144.bmp', '/home/eric/projetos pessoais/computer-vision/notebooks/homer_bart_1/bart145.bmp', '/home/eric/projetos pessoais/computer-vision/notebooks/homer_bart_1/bart146.bmp', '/home/eric/projetos pessoais/computer-vision/notebooks/homer_bart_1/bart147.bmp', '/home/eric/projetos pessoais/computer-vision/notebooks/homer_bart_1/bart148.bmp', '/home/eric/projetos pessoais/computer-vision/notebooks/homer_bart_1/bart149.bmp', '/home/eric/projetos pessoais/computer-vision/notebooks/homer_bart_1/bart15.bmp', '/home/eric/projetos pessoais/computer-vision/notebooks/homer_bart_1/bart150.bmp', '/home/eric/projetos pessoais/computer-vision/notebooks/homer_bart_1/bart151.bmp', '/home/eric/projetos pessoais/computer-vision/notebooks/homer_bart_1/bart153.bmp', '/home/eric/projetos pessoais/computer-vision/notebooks/homer_bart_1/bart154.bmp', '/home/eric/projetos pessoais/computer-vision/notebooks/homer_bart_1/bart155.bmp', '/home/eric/projetos pessoais/computer-vision/notebooks/homer_bart_1/bart156.bmp', '/home/eric/projetos pessoais/computer-vision/notebooks/homer_bart_1/bart157.bmp', '/home/eric/projetos pessoais/computer-vision/notebooks/homer_bart_1/bart158.bmp', '/home/eric/projetos pessoais/computer-vision/notebooks/homer_bart_1/bart159.bmp', '/home/eric/projetos pessoais/computer-vision/notebooks/homer_bart_1/bart16.bmp', '/home/eric/projetos pessoais/computer-vision/notebooks/homer_bart_1/bart160.bmp', '/home/eric/projetos pessoais/computer-vision/notebooks/homer_bart_1/bart161.bmp', '/home/eric/projetos pessoais/computer-vision/notebooks/homer_bart_1/bart162.bmp', '/home/eric/projetos pessoais/computer-vision/notebooks/homer_bart_1/bart164.bmp', '/home/eric/projetos pessoais/computer-vision/notebooks/homer_bart_1/bart165.bmp', '/home/eric/projetos pessoais/computer-vision/notebooks/homer_bart_1/bart166.bmp', '/home/eric/projetos pessoais/computer-vision/notebooks/homer_bart_1/bart167.bmp', '/home/eric/projetos pessoais/computer-vision/notebooks/homer_bart_1/bart168.bmp', '/home/eric/projetos pessoais/computer-vision/notebooks/homer_bart_1/bart169.bmp', '/home/eric/projetos pessoais/computer-vision/notebooks/homer_bart_1/bart17.bmp', '/home/eric/projetos pessoais/computer-vision/notebooks/homer_bart_1/bart18.bmp', '/home/eric/projetos pessoais/computer-vision/notebooks/homer_bart_1/bart19.bmp', '/home/eric/projetos pessoais/computer-vision/notebooks/homer_bart_1/bart2.bmp', '/home/eric/projetos pessoais/computer-vision/notebooks/homer_bart_1/bart20.bmp', '/home/eric/projetos pessoais/computer-vision/notebooks/homer_bart_1/bart21.bmp', '/home/eric/projetos pessoais/computer-vision/notebooks/homer_bart_1/bart22.bmp', '/home/eric/projetos pessoais/computer-vision/notebooks/homer_bart_1/bart23.bmp', '/home/eric/projetos pessoais/computer-vision/notebooks/homer_bart_1/bart24.bmp', '/home/eric/projetos pessoais/computer-vision/notebooks/homer_bart_1/bart25.bmp', '/home/eric/projetos pessoais/computer-vision/notebooks/homer_bart_1/bart26.bmp', '/home/eric/projetos pessoais/computer-vision/notebooks/homer_bart_1/bart27.bmp', '/home/eric/projetos pessoais/computer-vision/notebooks/homer_bart_1/bart28.bmp', '/home/eric/projetos pessoais/computer-vision/notebooks/homer_bart_1/bart29.bmp', '/home/eric/projetos pessoais/computer-vision/notebooks/homer_bart_1/bart3.bmp', '/home/eric/projetos pessoais/computer-vision/notebooks/homer_bart_1/bart30.bmp', '/home/eric/projetos pessoais/computer-vision/notebooks/homer_bart_1/bart31.bmp', '/home/eric/projetos pessoais/computer-vision/notebooks/homer_bart_1/bart32.bmp', '/home/eric/projetos pessoais/computer-vision/notebooks/homer_bart_1/bart34.bmp', '/home/eric/projetos pessoais/computer-vision/notebooks/homer_bart_1/bart35.bmp', '/home/eric/projetos pessoais/computer-vision/notebooks/homer_bart_1/bart36.bmp', '/home/eric/projetos pessoais/computer-vision/notebooks/homer_bart_1/bart37.bmp', '/home/eric/projetos pessoais/computer-vision/notebooks/homer_bart_1/bart38.bmp', '/home/eric/projetos pessoais/computer-vision/notebooks/homer_bart_1/bart39.bmp', '/home/eric/projetos pessoais/computer-vision/notebooks/homer_bart_1/bart4.bmp', '/home/eric/projetos pessoais/computer-vision/notebooks/homer_bart_1/bart40.bmp', '/home/eric/projetos pessoais/computer-vision/notebooks/homer_bart_1/bart42.bmp', '/home/eric/projetos pessoais/computer-vision/notebooks/homer_bart_1/bart43.bmp', '/home/eric/projetos pessoais/computer-vision/notebooks/homer_bart_1/bart44.bmp', '/home/eric/projetos pessoais/computer-vision/notebooks/homer_bart_1/bart45.bmp', '/home/eric/projetos pessoais/computer-vision/notebooks/homer_bart_1/bart46.bmp', '/home/eric/projetos pessoais/computer-vision/notebooks/homer_bart_1/bart47.bmp', '/home/eric/projetos pessoais/computer-vision/notebooks/homer_bart_1/bart48.bmp', '/home/eric/projetos pessoais/computer-vision/notebooks/homer_bart_1/bart49.bmp', '/home/eric/projetos pessoais/computer-vision/notebooks/homer_bart_1/bart5.bmp', '/home/eric/projetos pessoais/computer-vision/notebooks/homer_bart_1/bart50.bmp', '/home/eric/projetos pessoais/computer-vision/notebooks/homer_bart_1/bart51.bmp', '/home/eric/projetos pessoais/computer-vision/notebooks/homer_bart_1/bart52.bmp', '/home/eric/projetos pessoais/computer-vision/notebooks/homer_bart_1/bart53.bmp', '/home/eric/projetos pessoais/computer-vision/notebooks/homer_bart_1/bart54.bmp', '/home/eric/projetos pessoais/computer-vision/notebooks/homer_bart_1/bart55.bmp', '/home/eric/projetos pessoais/computer-vision/notebooks/homer_bart_1/bart56.bmp', '/home/eric/projetos pessoais/computer-vision/notebooks/homer_bart_1/bart57.bmp', '/home/eric/projetos pessoais/computer-vision/notebooks/homer_bart_1/bart58.bmp', '/home/eric/projetos pessoais/computer-vision/notebooks/homer_bart_1/bart59.bmp', '/home/eric/projetos pessoais/computer-vision/notebooks/homer_bart_1/bart6.bmp', '/home/eric/projetos pessoais/computer-vision/notebooks/homer_bart_1/bart60.bmp', '/home/eric/projetos pessoais/computer-vision/notebooks/homer_bart_1/bart61.bmp', '/home/eric/projetos pessoais/computer-vision/notebooks/homer_bart_1/bart62.bmp', '/home/eric/projetos pessoais/computer-vision/notebooks/homer_bart_1/bart63.bmp', '/home/eric/projetos pessoais/computer-vision/notebooks/homer_bart_1/bart64.bmp', '/home/eric/projetos pessoais/computer-vision/notebooks/homer_bart_1/bart65.bmp', '/home/eric/projetos pessoais/computer-vision/notebooks/homer_bart_1/bart66.bmp', '/home/eric/projetos pessoais/computer-vision/notebooks/homer_bart_1/bart67.bmp', '/home/eric/projetos pessoais/computer-vision/notebooks/homer_bart_1/bart68.bmp', '/home/eric/projetos pessoais/computer-vision/notebooks/homer_bart_1/bart69.bmp', '/home/eric/projetos pessoais/computer-vision/notebooks/homer_bart_1/bart7.bmp', '/home/eric/projetos pessoais/computer-vision/notebooks/homer_bart_1/bart70.bmp', '/home/eric/projetos pessoais/computer-vision/notebooks/homer_bart_1/bart71.bmp', '/home/eric/projetos pessoais/computer-vision/notebooks/homer_bart_1/bart72.bmp', '/home/eric/projetos pessoais/computer-vision/notebooks/homer_bart_1/bart73.bmp', '/home/eric/projetos pessoais/computer-vision/notebooks/homer_bart_1/bart74.bmp', '/home/eric/projetos pessoais/computer-vision/notebooks/homer_bart_1/bart75.bmp', '/home/eric/projetos pessoais/computer-vision/notebooks/homer_bart_1/bart76.bmp', '/home/eric/projetos pessoais/computer-vision/notebooks/homer_bart_1/bart77.bmp', '/home/eric/projetos pessoais/computer-vision/notebooks/homer_bart_1/bart79.bmp', '/home/eric/projetos pessoais/computer-vision/notebooks/homer_bart_1/bart8.bmp', '/home/eric/projetos pessoais/computer-vision/notebooks/homer_bart_1/bart80.bmp', '/home/eric/projetos pessoais/computer-vision/notebooks/homer_bart_1/bart81.bmp', '/home/eric/projetos pessoais/computer-vision/notebooks/homer_bart_1/bart82.bmp', '/home/eric/projetos pessoais/computer-vision/notebooks/homer_bart_1/bart83.bmp', '/home/eric/projetos pessoais/computer-vision/notebooks/homer_bart_1/bart84.bmp', '/home/eric/projetos pessoais/computer-vision/notebooks/homer_bart_1/bart85.bmp', '/home/eric/projetos pessoais/computer-vision/notebooks/homer_bart_1/bart86.bmp', '/home/eric/projetos pessoais/computer-vision/notebooks/homer_bart_1/bart87.bmp', '/home/eric/projetos pessoais/computer-vision/notebooks/homer_bart_1/bart89.bmp', '/home/eric/projetos pessoais/computer-vision/notebooks/homer_bart_1/bart9.bmp', '/home/eric/projetos pessoais/computer-vision/notebooks/homer_bart_1/bart90.bmp', '/home/eric/projetos pessoais/computer-vision/notebooks/homer_bart_1/bart91.bmp', '/home/eric/projetos pessoais/computer-vision/notebooks/homer_bart_1/bart92.bmp', '/home/eric/projetos pessoais/computer-vision/notebooks/homer_bart_1/bart93.bmp', '/home/eric/projetos pessoais/computer-vision/notebooks/homer_bart_1/bart94.bmp', '/home/eric/projetos pessoais/computer-vision/notebooks/homer_bart_1/bart95.bmp', '/home/eric/projetos pessoais/computer-vision/notebooks/homer_bart_1/bart96.bmp', '/home/eric/projetos pessoais/computer-vision/notebooks/homer_bart_1/bart97.bmp', '/home/eric/projetos pessoais/computer-vision/notebooks/homer_bart_1/bart98.bmp', '/home/eric/projetos pessoais/computer-vision/notebooks/homer_bart_1/bart99.bmp', '/home/eric/projetos pessoais/computer-vision/notebooks/homer_bart_1/homer1.bmp', '/home/eric/projetos pessoais/computer-vision/notebooks/homer_bart_1/homer10.bmp', '/home/eric/projetos pessoais/computer-vision/notebooks/homer_bart_1/homer100.bmp', '/home/eric/projetos pessoais/computer-vision/notebooks/homer_bart_1/homer101.bmp', '/home/eric/projetos pessoais/computer-vision/notebooks/homer_bart_1/homer102.bmp', '/home/eric/projetos pessoais/computer-vision/notebooks/homer_bart_1/homer103.bmp', '/home/eric/projetos pessoais/computer-vision/notebooks/homer_bart_1/homer104.bmp', '/home/eric/projetos pessoais/computer-vision/notebooks/homer_bart_1/homer105.bmp', '/home/eric/projetos pessoais/computer-vision/notebooks/homer_bart_1/homer106.bmp', '/home/eric/projetos pessoais/computer-vision/notebooks/homer_bart_1/homer107.bmp', '/home/eric/projetos pessoais/computer-vision/notebooks/homer_bart_1/homer109.bmp', '/home/eric/projetos pessoais/computer-vision/notebooks/homer_bart_1/homer110.bmp', '/home/eric/projetos pessoais/computer-vision/notebooks/homer_bart_1/homer112.bmp', '/home/eric/projetos pessoais/computer-vision/notebooks/homer_bart_1/homer113.bmp', '/home/eric/projetos pessoais/computer-vision/notebooks/homer_bart_1/homer115.bmp', '/home/eric/projetos pessoais/computer-vision/notebooks/homer_bart_1/homer116.bmp', '/home/eric/projetos pessoais/computer-vision/notebooks/homer_bart_1/homer117.bmp', '/home/eric/projetos pessoais/computer-vision/notebooks/homer_bart_1/homer119.bmp', '/home/eric/projetos pessoais/computer-vision/notebooks/homer_bart_1/homer120.bmp', '/home/eric/projetos pessoais/computer-vision/notebooks/homer_bart_1/homer121.bmp', '/home/eric/projetos pessoais/computer-vision/notebooks/homer_bart_1/homer122.bmp', '/home/eric/projetos pessoais/computer-vision/notebooks/homer_bart_1/homer123.bmp', '/home/eric/projetos pessoais/computer-vision/notebooks/homer_bart_1/homer124.bmp', '/home/eric/projetos pessoais/computer-vision/notebooks/homer_bart_1/homer13.bmp', '/home/eric/projetos pessoais/computer-vision/notebooks/homer_bart_1/homer14.bmp', '/home/eric/projetos pessoais/computer-vision/notebooks/homer_bart_1/homer15.bmp', '/home/eric/projetos pessoais/computer-vision/notebooks/homer_bart_1/homer16.bmp', '/home/eric/projetos pessoais/computer-vision/notebooks/homer_bart_1/homer17.bmp', '/home/eric/projetos pessoais/computer-vision/notebooks/homer_bart_1/homer18.bmp', '/home/eric/projetos pessoais/computer-vision/notebooks/homer_bart_1/homer2.bmp', '/home/eric/projetos pessoais/computer-vision/notebooks/homer_bart_1/homer20.bmp', '/home/eric/projetos pessoais/computer-vision/notebooks/homer_bart_1/homer21.bmp', '/home/eric/projetos pessoais/computer-vision/notebooks/homer_bart_1/homer22.bmp', '/home/eric/projetos pessoais/computer-vision/notebooks/homer_bart_1/homer23.bmp', '/home/eric/projetos pessoais/computer-vision/notebooks/homer_bart_1/homer24.bmp', '/home/eric/projetos pessoais/computer-vision/notebooks/homer_bart_1/homer26.bmp', '/home/eric/projetos pessoais/computer-vision/notebooks/homer_bart_1/homer27.bmp', '/home/eric/projetos pessoais/computer-vision/notebooks/homer_bart_1/homer28.bmp', '/home/eric/projetos pessoais/computer-vision/notebooks/homer_bart_1/homer29.bmp', '/home/eric/projetos pessoais/computer-vision/notebooks/homer_bart_1/homer3.bmp', '/home/eric/projetos pessoais/computer-vision/notebooks/homer_bart_1/homer30.bmp', '/home/eric/projetos pessoais/computer-vision/notebooks/homer_bart_1/homer31.bmp', '/home/eric/projetos pessoais/computer-vision/notebooks/homer_bart_1/homer32.bmp', '/home/eric/projetos pessoais/computer-vision/notebooks/homer_bart_1/homer33.bmp', '/home/eric/projetos pessoais/computer-vision/notebooks/homer_bart_1/homer34.bmp', '/home/eric/projetos pessoais/computer-vision/notebooks/homer_bart_1/homer35.bmp', '/home/eric/projetos pessoais/computer-vision/notebooks/homer_bart_1/homer36.bmp', '/home/eric/projetos pessoais/computer-vision/notebooks/homer_bart_1/homer37.bmp', '/home/eric/projetos pessoais/computer-vision/notebooks/homer_bart_1/homer38.bmp', '/home/eric/projetos pessoais/computer-vision/notebooks/homer_bart_1/homer4.bmp', '/home/eric/projetos pessoais/computer-vision/notebooks/homer_bart_1/homer40.bmp', '/home/eric/projetos pessoais/computer-vision/notebooks/homer_bart_1/homer41.bmp', '/home/eric/projetos pessoais/computer-vision/notebooks/homer_bart_1/homer43.bmp', '/home/eric/projetos pessoais/computer-vision/notebooks/homer_bart_1/homer44.bmp', '/home/eric/projetos pessoais/computer-vision/notebooks/homer_bart_1/homer45.bmp', '/home/eric/projetos pessoais/computer-vision/notebooks/homer_bart_1/homer46.bmp', '/home/eric/projetos pessoais/computer-vision/notebooks/homer_bart_1/homer47.bmp', '/home/eric/projetos pessoais/computer-vision/notebooks/homer_bart_1/homer48.bmp', '/home/eric/projetos pessoais/computer-vision/notebooks/homer_bart_1/homer49.bmp', '/home/eric/projetos pessoais/computer-vision/notebooks/homer_bart_1/homer5.bmp', '/home/eric/projetos pessoais/computer-vision/notebooks/homer_bart_1/homer50.bmp', '/home/eric/projetos pessoais/computer-vision/notebooks/homer_bart_1/homer51.bmp', '/home/eric/projetos pessoais/computer-vision/notebooks/homer_bart_1/homer52.bmp', '/home/eric/projetos pessoais/computer-vision/notebooks/homer_bart_1/homer54.bmp', '/home/eric/projetos pessoais/computer-vision/notebooks/homer_bart_1/homer55.bmp', '/home/eric/projetos pessoais/computer-vision/notebooks/homer_bart_1/homer56.bmp', '/home/eric/projetos pessoais/computer-vision/notebooks/homer_bart_1/homer57.bmp', '/home/eric/projetos pessoais/computer-vision/notebooks/homer_bart_1/homer58.bmp', '/home/eric/projetos pessoais/computer-vision/notebooks/homer_bart_1/homer59.bmp', '/home/eric/projetos pessoais/computer-vision/notebooks/homer_bart_1/homer6.bmp', '/home/eric/projetos pessoais/computer-vision/notebooks/homer_bart_1/homer60.bmp', '/home/eric/projetos pessoais/computer-vision/notebooks/homer_bart_1/homer61.bmp', '/home/eric/projetos pessoais/computer-vision/notebooks/homer_bart_1/homer62.bmp', '/home/eric/projetos pessoais/computer-vision/notebooks/homer_bart_1/homer63.bmp', '/home/eric/projetos pessoais/computer-vision/notebooks/homer_bart_1/homer65.bmp', '/home/eric/projetos pessoais/computer-vision/notebooks/homer_bart_1/homer66.bmp', '/home/eric/projetos pessoais/computer-vision/notebooks/homer_bart_1/homer68.bmp', '/home/eric/projetos pessoais/computer-vision/notebooks/homer_bart_1/homer69.bmp', '/home/eric/projetos pessoais/computer-vision/notebooks/homer_bart_1/homer7.bmp', '/home/eric/projetos pessoais/computer-vision/notebooks/homer_bart_1/homer70.bmp', '/home/eric/projetos pessoais/computer-vision/notebooks/homer_bart_1/homer71.bmp', '/home/eric/projetos pessoais/computer-vision/notebooks/homer_bart_1/homer72.bmp', '/home/eric/projetos pessoais/computer-vision/notebooks/homer_bart_1/homer73.bmp', '/home/eric/projetos pessoais/computer-vision/notebooks/homer_bart_1/homer74.bmp', '/home/eric/projetos pessoais/computer-vision/notebooks/homer_bart_1/homer75.bmp', '/home/eric/projetos pessoais/computer-vision/notebooks/homer_bart_1/homer76.bmp', '/home/eric/projetos pessoais/computer-vision/notebooks/homer_bart_1/homer77.bmp', '/home/eric/projetos pessoais/computer-vision/notebooks/homer_bart_1/homer78.bmp', '/home/eric/projetos pessoais/computer-vision/notebooks/homer_bart_1/homer79.bmp', '/home/eric/projetos pessoais/computer-vision/notebooks/homer_bart_1/homer8.bmp', '/home/eric/projetos pessoais/computer-vision/notebooks/homer_bart_1/homer80.bmp', '/home/eric/projetos pessoais/computer-vision/notebooks/homer_bart_1/homer81.bmp', '/home/eric/projetos pessoais/computer-vision/notebooks/homer_bart_1/homer82.bmp', '/home/eric/projetos pessoais/computer-vision/notebooks/homer_bart_1/homer83.bmp', '/home/eric/projetos pessoais/computer-vision/notebooks/homer_bart_1/homer84.bmp', '/home/eric/projetos pessoais/computer-vision/notebooks/homer_bart_1/homer85.bmp', '/home/eric/projetos pessoais/computer-vision/notebooks/homer_bart_1/homer86.bmp', '/home/eric/projetos pessoais/computer-vision/notebooks/homer_bart_1/homer87.bmp', '/home/eric/projetos pessoais/computer-vision/notebooks/homer_bart_1/homer9.bmp', '/home/eric/projetos pessoais/computer-vision/notebooks/homer_bart_1/homer90.bmp', '/home/eric/projetos pessoais/computer-vision/notebooks/homer_bart_1/homer91.bmp', '/home/eric/projetos pessoais/computer-vision/notebooks/homer_bart_1/homer92.bmp', '/home/eric/projetos pessoais/computer-vision/notebooks/homer_bart_1/homer93.bmp', '/home/eric/projetos pessoais/computer-vision/notebooks/homer_bart_1/homer94.bmp', '/home/eric/projetos pessoais/computer-vision/notebooks/homer_bart_1/homer95.bmp', '/home/eric/projetos pessoais/computer-vision/notebooks/homer_bart_1/homer96.bmp', '/home/eric/projetos pessoais/computer-vision/notebooks/homer_bart_1/homer97.bmp', '/home/eric/projetos pessoais/computer-vision/notebooks/homer_bart_1/homer98.bmp', '/home/eric/projetos pessoais/computer-vision/notebooks/homer_bart_1/homer99.bmp']\n"
     ]
    }
   ],
   "source": [
    "print(arquivos)"
   ]
  },
  {
   "attachments": {},
   "cell_type": "markdown",
   "metadata": {},
   "source": [
    "## Pré-processamento"
   ]
  },
  {
   "cell_type": "code",
   "execution_count": 6,
   "metadata": {},
   "outputs": [],
   "source": [
    "# tratamento de imagens \n",
    "largura = 128\n",
    "altura = 128"
   ]
  },
  {
   "cell_type": "code",
   "execution_count": 7,
   "metadata": {},
   "outputs": [],
   "source": [
    "# pixels da imagem\n",
    "imagens = []\n",
    "# classes homer e bart\n",
    "classes = []"
   ]
  },
  {
   "cell_type": "code",
   "execution_count": 8,
   "metadata": {},
   "outputs": [],
   "source": [
    "for imagem_caminho in arquivos:\n",
    "    #print(imagem_caminho)\n",
    "    try:\n",
    "\n",
    "        imagem = cv2.imread(imagem_caminho)\n",
    "        # altura e largura\n",
    "        (h, w) = imagem.shape[:2]\n",
    "    except:\n",
    "        continue\n",
    "\n",
    "    imagem = cv2.resize(imagem, (largura, altura))\n",
    "    imagem = cv2.cvtColor(imagem , cv2.COLOR_BGR2GRAY)\n",
    "    #plt.imshow(imagem)\n",
    "    #plt.show()\n",
    "\n",
    "    # converter de matriz para vetor\n",
    "    imagem =  imagem.ravel()\n",
    "    #print(imagem.shape)\n",
    "    # add na lista de imagens\n",
    "    imagens.append(imagem)\n",
    "    # add classes\n",
    "    nome_imagem = os.path.basename(os.path.normpath(imagem_caminho))\n",
    "    #print(nome_imagem)\n",
    "    if nome_imagem.startswith('b'):\n",
    "        classe = 0\n",
    "    else:\n",
    "        classe = 1\n",
    "    classes.append(classe)\n",
    "    #print(classe)\n"
   ]
  },
  {
   "cell_type": "code",
   "execution_count": 9,
   "metadata": {},
   "outputs": [
    {
     "data": {
      "text/plain": [
       "(array([255, 255, 255, ..., 255, 255, 255], dtype=uint8), 0)"
      ]
     },
     "execution_count": 9,
     "metadata": {},
     "output_type": "execute_result"
    }
   ],
   "source": [
    "# exemplo bart\n",
    "imagens[0], classes[0]"
   ]
  },
  {
   "cell_type": "code",
   "execution_count": 10,
   "metadata": {},
   "outputs": [
    {
     "data": {
      "text/plain": [
       "(array([255, 255, 255, ..., 255, 255, 255], dtype=uint8), 1)"
      ]
     },
     "execution_count": 10,
     "metadata": {},
     "output_type": "execute_result"
    }
   ],
   "source": [
    "# exemplo homer\n",
    "imagens[200], classes[200]"
   ]
  },
  {
   "attachments": {},
   "cell_type": "markdown",
   "metadata": {},
   "source": [
    "## Split inicial"
   ]
  },
  {
   "cell_type": "code",
   "execution_count": 11,
   "metadata": {},
   "outputs": [],
   "source": [
    "X = np.asarray(imagens)\n",
    "y = np.asarray(classes)"
   ]
  },
  {
   "cell_type": "code",
   "execution_count": 12,
   "metadata": {},
   "outputs": [
    {
     "data": {
      "text/plain": [
       "(269, 16384)"
      ]
     },
     "execution_count": 12,
     "metadata": {},
     "output_type": "execute_result"
    }
   ],
   "source": [
    "X.shape"
   ]
  },
  {
   "cell_type": "code",
   "execution_count": 13,
   "metadata": {},
   "outputs": [
    {
     "data": {
      "text/plain": [
       "(269,)"
      ]
     },
     "execution_count": 13,
     "metadata": {},
     "output_type": "execute_result"
    }
   ],
   "source": [
    "y.shape"
   ]
  },
  {
   "cell_type": "code",
   "execution_count": 19,
   "metadata": {},
   "outputs": [
    {
     "data": {
      "text/plain": [
       "(array([0, 1]), array([160, 109]))"
      ]
     },
     "execution_count": 19,
     "metadata": {},
     "output_type": "execute_result"
    }
   ],
   "source": [
    "np.unique(y, return_counts=True)"
   ]
  },
  {
   "attachments": {},
   "cell_type": "markdown",
   "metadata": {},
   "source": [
    "## Normalização dos dados"
   ]
  },
  {
   "cell_type": "code",
   "execution_count": 22,
   "metadata": {},
   "outputs": [],
   "source": [
    "scaler = MinMaxScaler()"
   ]
  },
  {
   "cell_type": "code",
   "execution_count": 24,
   "metadata": {},
   "outputs": [],
   "source": [
    "scaler.fit(X)\n",
    "X = scaler.transform(X)"
   ]
  },
  {
   "attachments": {},
   "cell_type": "markdown",
   "metadata": {},
   "source": [
    "## Divisão treino e teste"
   ]
  },
  {
   "cell_type": "code",
   "execution_count": null,
   "metadata": {},
   "outputs": [],
   "source": []
  },
  {
   "cell_type": "code",
   "execution_count": null,
   "metadata": {},
   "outputs": [],
   "source": []
  },
  {
   "cell_type": "code",
   "execution_count": null,
   "metadata": {},
   "outputs": [],
   "source": []
  },
  {
   "cell_type": "code",
   "execution_count": null,
   "metadata": {},
   "outputs": [],
   "source": []
  },
  {
   "cell_type": "code",
   "execution_count": null,
   "metadata": {},
   "outputs": [],
   "source": []
  },
  {
   "cell_type": "code",
   "execution_count": null,
   "metadata": {},
   "outputs": [],
   "source": []
  },
  {
   "cell_type": "code",
   "execution_count": null,
   "metadata": {},
   "outputs": [],
   "source": []
  },
  {
   "cell_type": "code",
   "execution_count": null,
   "metadata": {},
   "outputs": [],
   "source": []
  },
  {
   "cell_type": "code",
   "execution_count": null,
   "metadata": {},
   "outputs": [],
   "source": []
  }
 ],
 "metadata": {
  "kernelspec": {
   "display_name": "env",
   "language": "python",
   "name": "python3"
  },
  "language_info": {
   "codemirror_mode": {
    "name": "ipython",
    "version": 3
   },
   "file_extension": ".py",
   "mimetype": "text/x-python",
   "name": "python",
   "nbconvert_exporter": "python",
   "pygments_lexer": "ipython3",
   "version": "3.10.6"
  },
  "orig_nbformat": 4
 },
 "nbformat": 4,
 "nbformat_minor": 2
}
