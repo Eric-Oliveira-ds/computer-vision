{
  "cells": [
    {
      "cell_type": "markdown",
      "metadata": {
        "id": "84pg9awDvXWA"
      },
      "source": [
        "# Classificação de imagens com openCV e tensorflow\n",
        "- (RNA)"
      ]
    },
    {
      "cell_type": "code",
      "source": [
        "from google.colab import drive\n",
        "drive.mount('/content/drive')"
      ],
      "metadata": {
        "colab": {
          "base_uri": "https://localhost:8080/"
        },
        "id": "8ybgZal7vd74",
        "outputId": "b6e80bfc-fab6-4ef7-a0eb-74c69cd591eb"
      },
      "execution_count": 1,
      "outputs": [
        {
          "output_type": "stream",
          "name": "stdout",
          "text": [
            "Mounted at /content/drive\n"
          ]
        }
      ]
    },
    {
      "cell_type": "markdown",
      "metadata": {
        "id": "mHRDeLhWvXWC"
      },
      "source": [
        "## Libs"
      ]
    },
    {
      "cell_type": "code",
      "execution_count": 2,
      "metadata": {
        "id": "HdQR-y5JvXWD"
      },
      "outputs": [],
      "source": [
        "import cv2\n",
        "import numpy as np\n",
        "import os \n",
        "import zipfile \n",
        "from matplotlib import pyplot as plt \n",
        "import pandas as pd \n",
        "import seaborn as sns \n",
        "import tensorflow as tf\n",
        "from sklearn.preprocessing import MinMaxScaler\n",
        "from sklearn.model_selection import train_test_split"
      ]
    },
    {
      "cell_type": "code",
      "execution_count": 3,
      "metadata": {
        "colab": {
          "base_uri": "https://localhost:8080/",
          "height": 35
        },
        "id": "SDd9YxWavXWD",
        "outputId": "6bfacdd3-b603-494b-fae0-cb8469cb47e3"
      },
      "outputs": [
        {
          "output_type": "execute_result",
          "data": {
            "text/plain": [
              "'2.12.0'"
            ],
            "application/vnd.google.colaboratory.intrinsic+json": {
              "type": "string"
            }
          },
          "metadata": {},
          "execution_count": 3
        }
      ],
      "source": [
        "tf.__version__"
      ]
    },
    {
      "cell_type": "markdown",
      "metadata": {
        "id": "8XCC8QWivXWE"
      },
      "source": [
        "## Extração dos dados não estruturados"
      ]
    },
    {
      "cell_type": "code",
      "execution_count": 4,
      "metadata": {
        "id": "lN5kTNwZvXWE"
      },
      "outputs": [],
      "source": [
        "# Extração dos pixels da imagem\n",
        "path = '/content/drive/MyDrive/Computer Vision/Visão Computacional Guia Completo-20230526T132742Z-001/Visão Computacional Guia Completo/Datasets/homer_bart_1.zip'\n",
        "zip_obj = zipfile.ZipFile(path, mode='r')\n",
        "zip_obj.extractall('./')\n",
        "zip_obj.close()"
      ]
    },
    {
      "cell_type": "code",
      "execution_count": 5,
      "metadata": {
        "id": "6-M3605WvXWE"
      },
      "outputs": [],
      "source": [
        "diretorio = '/content/homer_bart_1'\n",
        "\n",
        "arquivos = [os.path.join(diretorio, f) for f in sorted(os.listdir(diretorio))]"
      ]
    },
    {
      "cell_type": "code",
      "source": [
        "arquivos"
      ],
      "metadata": {
        "colab": {
          "base_uri": "https://localhost:8080/"
        },
        "id": "cvFud90nwWmT",
        "outputId": "70ad02b3-a5d2-4604-b808-e0be74d289dc"
      },
      "execution_count": 6,
      "outputs": [
        {
          "output_type": "execute_result",
          "data": {
            "text/plain": [
              "['/content/homer_bart_1/.DS_Store',\n",
              " '/content/homer_bart_1/bart1.bmp',\n",
              " '/content/homer_bart_1/bart10.bmp',\n",
              " '/content/homer_bart_1/bart100.bmp',\n",
              " '/content/homer_bart_1/bart101.bmp',\n",
              " '/content/homer_bart_1/bart102.bmp',\n",
              " '/content/homer_bart_1/bart103.bmp',\n",
              " '/content/homer_bart_1/bart104.bmp',\n",
              " '/content/homer_bart_1/bart105.bmp',\n",
              " '/content/homer_bart_1/bart106.bmp',\n",
              " '/content/homer_bart_1/bart108.bmp',\n",
              " '/content/homer_bart_1/bart109.bmp',\n",
              " '/content/homer_bart_1/bart11.bmp',\n",
              " '/content/homer_bart_1/bart110.bmp',\n",
              " '/content/homer_bart_1/bart111.bmp',\n",
              " '/content/homer_bart_1/bart112.bmp',\n",
              " '/content/homer_bart_1/bart113.bmp',\n",
              " '/content/homer_bart_1/bart114.bmp',\n",
              " '/content/homer_bart_1/bart115.bmp',\n",
              " '/content/homer_bart_1/bart116.bmp',\n",
              " '/content/homer_bart_1/bart117.bmp',\n",
              " '/content/homer_bart_1/bart118.bmp',\n",
              " '/content/homer_bart_1/bart119.bmp',\n",
              " '/content/homer_bart_1/bart12.bmp',\n",
              " '/content/homer_bart_1/bart120.bmp',\n",
              " '/content/homer_bart_1/bart121.bmp',\n",
              " '/content/homer_bart_1/bart122.bmp',\n",
              " '/content/homer_bart_1/bart123.bmp',\n",
              " '/content/homer_bart_1/bart124.bmp',\n",
              " '/content/homer_bart_1/bart125.bmp',\n",
              " '/content/homer_bart_1/bart126.bmp',\n",
              " '/content/homer_bart_1/bart127.bmp',\n",
              " '/content/homer_bart_1/bart128.bmp',\n",
              " '/content/homer_bart_1/bart13.bmp',\n",
              " '/content/homer_bart_1/bart130.bmp',\n",
              " '/content/homer_bart_1/bart131.bmp',\n",
              " '/content/homer_bart_1/bart132.bmp',\n",
              " '/content/homer_bart_1/bart133.bmp',\n",
              " '/content/homer_bart_1/bart134.bmp',\n",
              " '/content/homer_bart_1/bart135.bmp',\n",
              " '/content/homer_bart_1/bart136.bmp',\n",
              " '/content/homer_bart_1/bart137.bmp',\n",
              " '/content/homer_bart_1/bart138.bmp',\n",
              " '/content/homer_bart_1/bart139.bmp',\n",
              " '/content/homer_bart_1/bart14.bmp',\n",
              " '/content/homer_bart_1/bart141.bmp',\n",
              " '/content/homer_bart_1/bart142.bmp',\n",
              " '/content/homer_bart_1/bart143.bmp',\n",
              " '/content/homer_bart_1/bart144.bmp',\n",
              " '/content/homer_bart_1/bart145.bmp',\n",
              " '/content/homer_bart_1/bart146.bmp',\n",
              " '/content/homer_bart_1/bart147.bmp',\n",
              " '/content/homer_bart_1/bart148.bmp',\n",
              " '/content/homer_bart_1/bart149.bmp',\n",
              " '/content/homer_bart_1/bart15.bmp',\n",
              " '/content/homer_bart_1/bart150.bmp',\n",
              " '/content/homer_bart_1/bart151.bmp',\n",
              " '/content/homer_bart_1/bart153.bmp',\n",
              " '/content/homer_bart_1/bart154.bmp',\n",
              " '/content/homer_bart_1/bart155.bmp',\n",
              " '/content/homer_bart_1/bart156.bmp',\n",
              " '/content/homer_bart_1/bart157.bmp',\n",
              " '/content/homer_bart_1/bart158.bmp',\n",
              " '/content/homer_bart_1/bart159.bmp',\n",
              " '/content/homer_bart_1/bart16.bmp',\n",
              " '/content/homer_bart_1/bart160.bmp',\n",
              " '/content/homer_bart_1/bart161.bmp',\n",
              " '/content/homer_bart_1/bart162.bmp',\n",
              " '/content/homer_bart_1/bart164.bmp',\n",
              " '/content/homer_bart_1/bart165.bmp',\n",
              " '/content/homer_bart_1/bart166.bmp',\n",
              " '/content/homer_bart_1/bart167.bmp',\n",
              " '/content/homer_bart_1/bart168.bmp',\n",
              " '/content/homer_bart_1/bart169.bmp',\n",
              " '/content/homer_bart_1/bart17.bmp',\n",
              " '/content/homer_bart_1/bart18.bmp',\n",
              " '/content/homer_bart_1/bart19.bmp',\n",
              " '/content/homer_bart_1/bart2.bmp',\n",
              " '/content/homer_bart_1/bart20.bmp',\n",
              " '/content/homer_bart_1/bart21.bmp',\n",
              " '/content/homer_bart_1/bart22.bmp',\n",
              " '/content/homer_bart_1/bart23.bmp',\n",
              " '/content/homer_bart_1/bart24.bmp',\n",
              " '/content/homer_bart_1/bart25.bmp',\n",
              " '/content/homer_bart_1/bart26.bmp',\n",
              " '/content/homer_bart_1/bart27.bmp',\n",
              " '/content/homer_bart_1/bart28.bmp',\n",
              " '/content/homer_bart_1/bart29.bmp',\n",
              " '/content/homer_bart_1/bart3.bmp',\n",
              " '/content/homer_bart_1/bart30.bmp',\n",
              " '/content/homer_bart_1/bart31.bmp',\n",
              " '/content/homer_bart_1/bart32.bmp',\n",
              " '/content/homer_bart_1/bart34.bmp',\n",
              " '/content/homer_bart_1/bart35.bmp',\n",
              " '/content/homer_bart_1/bart36.bmp',\n",
              " '/content/homer_bart_1/bart37.bmp',\n",
              " '/content/homer_bart_1/bart38.bmp',\n",
              " '/content/homer_bart_1/bart39.bmp',\n",
              " '/content/homer_bart_1/bart4.bmp',\n",
              " '/content/homer_bart_1/bart40.bmp',\n",
              " '/content/homer_bart_1/bart42.bmp',\n",
              " '/content/homer_bart_1/bart43.bmp',\n",
              " '/content/homer_bart_1/bart44.bmp',\n",
              " '/content/homer_bart_1/bart45.bmp',\n",
              " '/content/homer_bart_1/bart46.bmp',\n",
              " '/content/homer_bart_1/bart47.bmp',\n",
              " '/content/homer_bart_1/bart48.bmp',\n",
              " '/content/homer_bart_1/bart49.bmp',\n",
              " '/content/homer_bart_1/bart5.bmp',\n",
              " '/content/homer_bart_1/bart50.bmp',\n",
              " '/content/homer_bart_1/bart51.bmp',\n",
              " '/content/homer_bart_1/bart52.bmp',\n",
              " '/content/homer_bart_1/bart53.bmp',\n",
              " '/content/homer_bart_1/bart54.bmp',\n",
              " '/content/homer_bart_1/bart55.bmp',\n",
              " '/content/homer_bart_1/bart56.bmp',\n",
              " '/content/homer_bart_1/bart57.bmp',\n",
              " '/content/homer_bart_1/bart58.bmp',\n",
              " '/content/homer_bart_1/bart59.bmp',\n",
              " '/content/homer_bart_1/bart6.bmp',\n",
              " '/content/homer_bart_1/bart60.bmp',\n",
              " '/content/homer_bart_1/bart61.bmp',\n",
              " '/content/homer_bart_1/bart62.bmp',\n",
              " '/content/homer_bart_1/bart63.bmp',\n",
              " '/content/homer_bart_1/bart64.bmp',\n",
              " '/content/homer_bart_1/bart65.bmp',\n",
              " '/content/homer_bart_1/bart66.bmp',\n",
              " '/content/homer_bart_1/bart67.bmp',\n",
              " '/content/homer_bart_1/bart68.bmp',\n",
              " '/content/homer_bart_1/bart69.bmp',\n",
              " '/content/homer_bart_1/bart7.bmp',\n",
              " '/content/homer_bart_1/bart70.bmp',\n",
              " '/content/homer_bart_1/bart71.bmp',\n",
              " '/content/homer_bart_1/bart72.bmp',\n",
              " '/content/homer_bart_1/bart73.bmp',\n",
              " '/content/homer_bart_1/bart74.bmp',\n",
              " '/content/homer_bart_1/bart75.bmp',\n",
              " '/content/homer_bart_1/bart76.bmp',\n",
              " '/content/homer_bart_1/bart77.bmp',\n",
              " '/content/homer_bart_1/bart79.bmp',\n",
              " '/content/homer_bart_1/bart8.bmp',\n",
              " '/content/homer_bart_1/bart80.bmp',\n",
              " '/content/homer_bart_1/bart81.bmp',\n",
              " '/content/homer_bart_1/bart82.bmp',\n",
              " '/content/homer_bart_1/bart83.bmp',\n",
              " '/content/homer_bart_1/bart84.bmp',\n",
              " '/content/homer_bart_1/bart85.bmp',\n",
              " '/content/homer_bart_1/bart86.bmp',\n",
              " '/content/homer_bart_1/bart87.bmp',\n",
              " '/content/homer_bart_1/bart89.bmp',\n",
              " '/content/homer_bart_1/bart9.bmp',\n",
              " '/content/homer_bart_1/bart90.bmp',\n",
              " '/content/homer_bart_1/bart91.bmp',\n",
              " '/content/homer_bart_1/bart92.bmp',\n",
              " '/content/homer_bart_1/bart93.bmp',\n",
              " '/content/homer_bart_1/bart94.bmp',\n",
              " '/content/homer_bart_1/bart95.bmp',\n",
              " '/content/homer_bart_1/bart96.bmp',\n",
              " '/content/homer_bart_1/bart97.bmp',\n",
              " '/content/homer_bart_1/bart98.bmp',\n",
              " '/content/homer_bart_1/bart99.bmp',\n",
              " '/content/homer_bart_1/homer1.bmp',\n",
              " '/content/homer_bart_1/homer10.bmp',\n",
              " '/content/homer_bart_1/homer100.bmp',\n",
              " '/content/homer_bart_1/homer101.bmp',\n",
              " '/content/homer_bart_1/homer102.bmp',\n",
              " '/content/homer_bart_1/homer103.bmp',\n",
              " '/content/homer_bart_1/homer104.bmp',\n",
              " '/content/homer_bart_1/homer105.bmp',\n",
              " '/content/homer_bart_1/homer106.bmp',\n",
              " '/content/homer_bart_1/homer107.bmp',\n",
              " '/content/homer_bart_1/homer109.bmp',\n",
              " '/content/homer_bart_1/homer110.bmp',\n",
              " '/content/homer_bart_1/homer112.bmp',\n",
              " '/content/homer_bart_1/homer113.bmp',\n",
              " '/content/homer_bart_1/homer115.bmp',\n",
              " '/content/homer_bart_1/homer116.bmp',\n",
              " '/content/homer_bart_1/homer117.bmp',\n",
              " '/content/homer_bart_1/homer119.bmp',\n",
              " '/content/homer_bart_1/homer120.bmp',\n",
              " '/content/homer_bart_1/homer121.bmp',\n",
              " '/content/homer_bart_1/homer122.bmp',\n",
              " '/content/homer_bart_1/homer123.bmp',\n",
              " '/content/homer_bart_1/homer124.bmp',\n",
              " '/content/homer_bart_1/homer13.bmp',\n",
              " '/content/homer_bart_1/homer14.bmp',\n",
              " '/content/homer_bart_1/homer15.bmp',\n",
              " '/content/homer_bart_1/homer16.bmp',\n",
              " '/content/homer_bart_1/homer17.bmp',\n",
              " '/content/homer_bart_1/homer18.bmp',\n",
              " '/content/homer_bart_1/homer2.bmp',\n",
              " '/content/homer_bart_1/homer20.bmp',\n",
              " '/content/homer_bart_1/homer21.bmp',\n",
              " '/content/homer_bart_1/homer22.bmp',\n",
              " '/content/homer_bart_1/homer23.bmp',\n",
              " '/content/homer_bart_1/homer24.bmp',\n",
              " '/content/homer_bart_1/homer26.bmp',\n",
              " '/content/homer_bart_1/homer27.bmp',\n",
              " '/content/homer_bart_1/homer28.bmp',\n",
              " '/content/homer_bart_1/homer29.bmp',\n",
              " '/content/homer_bart_1/homer3.bmp',\n",
              " '/content/homer_bart_1/homer30.bmp',\n",
              " '/content/homer_bart_1/homer31.bmp',\n",
              " '/content/homer_bart_1/homer32.bmp',\n",
              " '/content/homer_bart_1/homer33.bmp',\n",
              " '/content/homer_bart_1/homer34.bmp',\n",
              " '/content/homer_bart_1/homer35.bmp',\n",
              " '/content/homer_bart_1/homer36.bmp',\n",
              " '/content/homer_bart_1/homer37.bmp',\n",
              " '/content/homer_bart_1/homer38.bmp',\n",
              " '/content/homer_bart_1/homer4.bmp',\n",
              " '/content/homer_bart_1/homer40.bmp',\n",
              " '/content/homer_bart_1/homer41.bmp',\n",
              " '/content/homer_bart_1/homer43.bmp',\n",
              " '/content/homer_bart_1/homer44.bmp',\n",
              " '/content/homer_bart_1/homer45.bmp',\n",
              " '/content/homer_bart_1/homer46.bmp',\n",
              " '/content/homer_bart_1/homer47.bmp',\n",
              " '/content/homer_bart_1/homer48.bmp',\n",
              " '/content/homer_bart_1/homer49.bmp',\n",
              " '/content/homer_bart_1/homer5.bmp',\n",
              " '/content/homer_bart_1/homer50.bmp',\n",
              " '/content/homer_bart_1/homer51.bmp',\n",
              " '/content/homer_bart_1/homer52.bmp',\n",
              " '/content/homer_bart_1/homer54.bmp',\n",
              " '/content/homer_bart_1/homer55.bmp',\n",
              " '/content/homer_bart_1/homer56.bmp',\n",
              " '/content/homer_bart_1/homer57.bmp',\n",
              " '/content/homer_bart_1/homer58.bmp',\n",
              " '/content/homer_bart_1/homer59.bmp',\n",
              " '/content/homer_bart_1/homer6.bmp',\n",
              " '/content/homer_bart_1/homer60.bmp',\n",
              " '/content/homer_bart_1/homer61.bmp',\n",
              " '/content/homer_bart_1/homer62.bmp',\n",
              " '/content/homer_bart_1/homer63.bmp',\n",
              " '/content/homer_bart_1/homer65.bmp',\n",
              " '/content/homer_bart_1/homer66.bmp',\n",
              " '/content/homer_bart_1/homer68.bmp',\n",
              " '/content/homer_bart_1/homer69.bmp',\n",
              " '/content/homer_bart_1/homer7.bmp',\n",
              " '/content/homer_bart_1/homer70.bmp',\n",
              " '/content/homer_bart_1/homer71.bmp',\n",
              " '/content/homer_bart_1/homer72.bmp',\n",
              " '/content/homer_bart_1/homer73.bmp',\n",
              " '/content/homer_bart_1/homer74.bmp',\n",
              " '/content/homer_bart_1/homer75.bmp',\n",
              " '/content/homer_bart_1/homer76.bmp',\n",
              " '/content/homer_bart_1/homer77.bmp',\n",
              " '/content/homer_bart_1/homer78.bmp',\n",
              " '/content/homer_bart_1/homer79.bmp',\n",
              " '/content/homer_bart_1/homer8.bmp',\n",
              " '/content/homer_bart_1/homer80.bmp',\n",
              " '/content/homer_bart_1/homer81.bmp',\n",
              " '/content/homer_bart_1/homer82.bmp',\n",
              " '/content/homer_bart_1/homer83.bmp',\n",
              " '/content/homer_bart_1/homer84.bmp',\n",
              " '/content/homer_bart_1/homer85.bmp',\n",
              " '/content/homer_bart_1/homer86.bmp',\n",
              " '/content/homer_bart_1/homer87.bmp',\n",
              " '/content/homer_bart_1/homer9.bmp',\n",
              " '/content/homer_bart_1/homer90.bmp',\n",
              " '/content/homer_bart_1/homer91.bmp',\n",
              " '/content/homer_bart_1/homer92.bmp',\n",
              " '/content/homer_bart_1/homer93.bmp',\n",
              " '/content/homer_bart_1/homer94.bmp',\n",
              " '/content/homer_bart_1/homer95.bmp',\n",
              " '/content/homer_bart_1/homer96.bmp',\n",
              " '/content/homer_bart_1/homer97.bmp',\n",
              " '/content/homer_bart_1/homer98.bmp',\n",
              " '/content/homer_bart_1/homer99.bmp']"
            ]
          },
          "metadata": {},
          "execution_count": 6
        }
      ]
    },
    {
      "cell_type": "markdown",
      "metadata": {
        "id": "xrNVokWKvXWF"
      },
      "source": [
        "## Pré-processamento"
      ]
    },
    {
      "cell_type": "code",
      "execution_count": 7,
      "metadata": {
        "id": "MEG9nTIuvXWF"
      },
      "outputs": [],
      "source": [
        "# tratamento de imagens \n",
        "largura = 128\n",
        "altura = 128"
      ]
    },
    {
      "cell_type": "code",
      "execution_count": 8,
      "metadata": {
        "id": "s3g42pStvXWG"
      },
      "outputs": [],
      "source": [
        "# pixels da imagem\n",
        "imagens = []\n",
        "# classes homer e bart\n",
        "classes = []"
      ]
    },
    {
      "cell_type": "code",
      "execution_count": 9,
      "metadata": {
        "id": "6yRJOjN7vXWG"
      },
      "outputs": [],
      "source": [
        "for imagem_caminho in arquivos:\n",
        "    #print(imagem_caminho)\n",
        "    try:\n",
        "\n",
        "        imagem = cv2.imread(imagem_caminho)\n",
        "        # altura e largura\n",
        "        (h, w) = imagem.shape[:2]\n",
        "    except:\n",
        "        continue\n",
        "\n",
        "    imagem = cv2.resize(imagem, (largura, altura))\n",
        "    imagem = cv2.cvtColor(imagem , cv2.COLOR_BGR2GRAY)\n",
        "    #plt.imshow(imagem)\n",
        "    #plt.show()\n",
        "\n",
        "    # converter de matriz para vetor\n",
        "    imagem =  imagem.ravel()\n",
        "    #print(imagem.shape)\n",
        "    # add na lista de imagens\n",
        "    imagens.append(imagem)\n",
        "    # add classes\n",
        "    nome_imagem = os.path.basename(os.path.normpath(imagem_caminho))\n",
        "    #print(nome_imagem)\n",
        "    if nome_imagem.startswith('b'):\n",
        "        classe = 0\n",
        "    else:\n",
        "        classe = 1\n",
        "    classes.append(classe)\n",
        "    #print(classe)\n"
      ]
    },
    {
      "cell_type": "code",
      "execution_count": 10,
      "metadata": {
        "colab": {
          "base_uri": "https://localhost:8080/"
        },
        "id": "n2OKWdYCvXWG",
        "outputId": "4c09cfe9-c094-4b27-8348-c108786da9e2"
      },
      "outputs": [
        {
          "output_type": "execute_result",
          "data": {
            "text/plain": [
              "(array([255, 255, 255, ..., 255, 255, 255], dtype=uint8), 0)"
            ]
          },
          "metadata": {},
          "execution_count": 10
        }
      ],
      "source": [
        "# exemplo bart\n",
        "imagens[0], classes[0]"
      ]
    },
    {
      "cell_type": "code",
      "execution_count": 11,
      "metadata": {
        "colab": {
          "base_uri": "https://localhost:8080/"
        },
        "id": "S8Sewj-1vXWG",
        "outputId": "e64c2f75-249e-4763-d5be-68eac928f3b8"
      },
      "outputs": [
        {
          "output_type": "execute_result",
          "data": {
            "text/plain": [
              "(array([255, 255, 255, ..., 255, 255, 255], dtype=uint8), 1)"
            ]
          },
          "metadata": {},
          "execution_count": 11
        }
      ],
      "source": [
        "# exemplo homer\n",
        "imagens[200], classes[200]"
      ]
    },
    {
      "cell_type": "markdown",
      "metadata": {
        "id": "xsuBUjwavXWH"
      },
      "source": [
        "## Split inicial"
      ]
    },
    {
      "cell_type": "code",
      "execution_count": 12,
      "metadata": {
        "id": "DqMjTgqsvXWH"
      },
      "outputs": [],
      "source": [
        "X = np.asarray(imagens)\n",
        "y = np.asarray(classes)"
      ]
    },
    {
      "cell_type": "code",
      "execution_count": 13,
      "metadata": {
        "colab": {
          "base_uri": "https://localhost:8080/"
        },
        "id": "eeQwNZ-avXWH",
        "outputId": "0719cad1-406e-45c7-c628-add7715f54df"
      },
      "outputs": [
        {
          "output_type": "execute_result",
          "data": {
            "text/plain": [
              "(269, 16384)"
            ]
          },
          "metadata": {},
          "execution_count": 13
        }
      ],
      "source": [
        "X.shape"
      ]
    },
    {
      "cell_type": "code",
      "execution_count": 14,
      "metadata": {
        "colab": {
          "base_uri": "https://localhost:8080/"
        },
        "id": "Ud2dY2rNvXWH",
        "outputId": "d381b31f-a613-45ee-f422-e12daad64758"
      },
      "outputs": [
        {
          "output_type": "execute_result",
          "data": {
            "text/plain": [
              "(269,)"
            ]
          },
          "metadata": {},
          "execution_count": 14
        }
      ],
      "source": [
        "y.shape"
      ]
    },
    {
      "cell_type": "code",
      "execution_count": 15,
      "metadata": {
        "colab": {
          "base_uri": "https://localhost:8080/"
        },
        "id": "0Uw9U_UvvXWH",
        "outputId": "e27f8af2-1746-42e3-e458-67a6085f2239"
      },
      "outputs": [
        {
          "output_type": "execute_result",
          "data": {
            "text/plain": [
              "(array([0, 1]), array([160, 109]))"
            ]
          },
          "metadata": {},
          "execution_count": 15
        }
      ],
      "source": [
        "np.unique(y, return_counts=True)"
      ]
    },
    {
      "cell_type": "markdown",
      "metadata": {
        "id": "XEnG_9FmvXWI"
      },
      "source": [
        "## Normalização dos dados"
      ]
    },
    {
      "cell_type": "code",
      "execution_count": 16,
      "metadata": {
        "id": "dA0QN7U1vXWI"
      },
      "outputs": [],
      "source": [
        "scaler = MinMaxScaler()"
      ]
    },
    {
      "cell_type": "code",
      "execution_count": 17,
      "metadata": {
        "id": "quF6nFBmvXWI"
      },
      "outputs": [],
      "source": [
        "scaler.fit(X)\n",
        "X = scaler.transform(X)"
      ]
    },
    {
      "cell_type": "markdown",
      "metadata": {
        "id": "vj3rKwgYvXWI"
      },
      "source": [
        "## Divisão treino e teste"
      ]
    },
    {
      "cell_type": "code",
      "execution_count": 18,
      "metadata": {
        "colab": {
          "base_uri": "https://localhost:8080/"
        },
        "id": "lPJkXR62vXWI",
        "outputId": "87d0cb55-35a9-4379-8f84-ba2285966c74"
      },
      "outputs": [
        {
          "output_type": "execute_result",
          "data": {
            "text/plain": [
              "((269, 16384), (269,))"
            ]
          },
          "metadata": {},
          "execution_count": 18
        }
      ],
      "source": [
        "X.shape , y.shape"
      ]
    },
    {
      "cell_type": "code",
      "execution_count": 19,
      "metadata": {
        "id": "C0MzzpWAvXWI"
      },
      "outputs": [],
      "source": [
        "X_train, X_test, y_train, y_test = train_test_split(X, y, test_size=0.2, random_state=42)"
      ]
    },
    {
      "cell_type": "code",
      "execution_count": 20,
      "metadata": {
        "colab": {
          "base_uri": "https://localhost:8080/"
        },
        "id": "D-J8LKKRvXWI",
        "outputId": "58226f87-e8fa-47ec-e9d9-a56e76fa5751"
      },
      "outputs": [
        {
          "output_type": "execute_result",
          "data": {
            "text/plain": [
              "((215, 16384), (215,), (54, 16384), (54,))"
            ]
          },
          "metadata": {},
          "execution_count": 20
        }
      ],
      "source": [
        "X_train.shape, y_train.shape, X_test.shape, y_test.shape"
      ]
    },
    {
      "cell_type": "markdown",
      "metadata": {
        "id": "UY5TReAdvXWJ"
      },
      "source": [
        "## Modelagem\n",
        "\n",
        "    - Construção da rede neural"
      ]
    },
    {
      "cell_type": "code",
      "execution_count": 21,
      "metadata": {
        "colab": {
          "base_uri": "https://localhost:8080/"
        },
        "id": "vKfzuWjgvXWJ",
        "outputId": "ccbbc580-6b70-4e05-c600-7754c8828c90"
      },
      "outputs": [
        {
          "output_type": "execute_result",
          "data": {
            "text/plain": [
              "8193.0"
            ]
          },
          "metadata": {},
          "execution_count": 21
        }
      ],
      "source": [
        "# neurônios\n",
        "(16384 + 2 ) / 2"
      ]
    },
    {
      "cell_type": "code",
      "execution_count": 22,
      "metadata": {
        "id": "WnNnuAxJvXWJ"
      },
      "outputs": [],
      "source": [
        "network1 = tf.keras.models.Sequential()\n",
        "# camadas\n",
        "network1.add(tf.keras.layers.Dense(input_shape = (16384,), units=8183, activation='relu') )\n",
        "# camada oculta\n",
        "network1.add(tf.keras.layers.Dense(units=8193, activation='relu'))\n",
        "# camada saída\n",
        "network1.add(tf.keras.layers.Dense(units=1, activation='sigmoid'))"
      ]
    },
    {
      "cell_type": "code",
      "execution_count": 23,
      "metadata": {
        "colab": {
          "base_uri": "https://localhost:8080/"
        },
        "id": "aV9hBQXpvXWJ",
        "outputId": "834691d2-78a6-4798-b2f5-8910f0083ee3"
      },
      "outputs": [
        {
          "output_type": "stream",
          "name": "stdout",
          "text": [
            "Model: \"sequential\"\n",
            "_________________________________________________________________\n",
            " Layer (type)                Output Shape              Param #   \n",
            "=================================================================\n",
            " dense (Dense)               (None, 8183)              134078455 \n",
            "                                                                 \n",
            " dense_1 (Dense)             (None, 8193)              67051512  \n",
            "                                                                 \n",
            " dense_2 (Dense)             (None, 1)                 8194      \n",
            "                                                                 \n",
            "=================================================================\n",
            "Total params: 201,138,161\n",
            "Trainable params: 201,138,161\n",
            "Non-trainable params: 0\n",
            "_________________________________________________________________\n"
          ]
        }
      ],
      "source": [
        "# estrurura da rede\n",
        "network1.summary()"
      ]
    },
    {
      "cell_type": "code",
      "execution_count": 24,
      "metadata": {
        "id": "cICouVbkvXWJ"
      },
      "outputs": [],
      "source": [
        "# treinamento\n",
        "network1.compile(optimizer='Adam', loss='binary_crossentropy', metrics=['accuracy'])"
      ]
    },
    {
      "cell_type": "code",
      "execution_count": 25,
      "metadata": {
        "colab": {
          "base_uri": "https://localhost:8080/"
        },
        "id": "J96FgcPrvXWK",
        "outputId": "4d7aeb14-f0d3-4fd7-fd6c-8cb32d10df71"
      },
      "outputs": [
        {
          "output_type": "stream",
          "name": "stdout",
          "text": [
            "Epoch 1/50\n",
            "7/7 [==============================] - 6s 47ms/step - loss: 164.8284 - accuracy: 0.5209\n",
            "Epoch 2/50\n",
            "7/7 [==============================] - 0s 43ms/step - loss: 7.9064 - accuracy: 0.5163\n",
            "Epoch 3/50\n",
            "7/7 [==============================] - 0s 44ms/step - loss: 4.8407 - accuracy: 0.5442\n",
            "Epoch 4/50\n",
            "7/7 [==============================] - 0s 43ms/step - loss: 3.2888 - accuracy: 0.5628\n",
            "Epoch 5/50\n",
            "7/7 [==============================] - 0s 43ms/step - loss: 1.8224 - accuracy: 0.4977\n",
            "Epoch 6/50\n",
            "7/7 [==============================] - 0s 43ms/step - loss: 0.8694 - accuracy: 0.5070\n",
            "Epoch 7/50\n",
            "7/7 [==============================] - 0s 43ms/step - loss: 0.6937 - accuracy: 0.5116\n",
            "Epoch 8/50\n",
            "7/7 [==============================] - 0s 44ms/step - loss: 0.6812 - accuracy: 0.6140\n",
            "Epoch 9/50\n",
            "7/7 [==============================] - 0s 44ms/step - loss: 0.6626 - accuracy: 0.6419\n",
            "Epoch 10/50\n",
            "7/7 [==============================] - 0s 45ms/step - loss: 0.6334 - accuracy: 0.6419\n",
            "Epoch 11/50\n",
            "7/7 [==============================] - 0s 44ms/step - loss: 0.6905 - accuracy: 0.5535\n",
            "Epoch 12/50\n",
            "7/7 [==============================] - 0s 46ms/step - loss: 0.7412 - accuracy: 0.5953\n",
            "Epoch 13/50\n",
            "7/7 [==============================] - 0s 46ms/step - loss: 0.6768 - accuracy: 0.5674\n",
            "Epoch 14/50\n",
            "7/7 [==============================] - 0s 46ms/step - loss: 0.6413 - accuracy: 0.6326\n",
            "Epoch 15/50\n",
            "7/7 [==============================] - 0s 46ms/step - loss: 0.6160 - accuracy: 0.6651\n",
            "Epoch 16/50\n",
            "7/7 [==============================] - 0s 45ms/step - loss: 0.6482 - accuracy: 0.6047\n",
            "Epoch 17/50\n",
            "7/7 [==============================] - 0s 45ms/step - loss: 0.6468 - accuracy: 0.6186\n",
            "Epoch 18/50\n",
            "7/7 [==============================] - 0s 45ms/step - loss: 0.7374 - accuracy: 0.5302\n",
            "Epoch 19/50\n",
            "7/7 [==============================] - 0s 45ms/step - loss: 0.7033 - accuracy: 0.5628\n",
            "Epoch 20/50\n",
            "7/7 [==============================] - 0s 46ms/step - loss: 0.6328 - accuracy: 0.6000\n",
            "Epoch 21/50\n",
            "7/7 [==============================] - 0s 45ms/step - loss: 0.5939 - accuracy: 0.6744\n",
            "Epoch 22/50\n",
            "7/7 [==============================] - 0s 45ms/step - loss: 0.5828 - accuracy: 0.6837\n",
            "Epoch 23/50\n",
            "7/7 [==============================] - 0s 44ms/step - loss: 0.8096 - accuracy: 0.5256\n",
            "Epoch 24/50\n",
            "7/7 [==============================] - 0s 43ms/step - loss: 0.6273 - accuracy: 0.6279\n",
            "Epoch 25/50\n",
            "7/7 [==============================] - 0s 45ms/step - loss: 0.5696 - accuracy: 0.6744\n",
            "Epoch 26/50\n",
            "7/7 [==============================] - 0s 43ms/step - loss: 0.5085 - accuracy: 0.7581\n",
            "Epoch 27/50\n",
            "7/7 [==============================] - 0s 43ms/step - loss: 0.6514 - accuracy: 0.6930\n",
            "Epoch 28/50\n",
            "7/7 [==============================] - 0s 44ms/step - loss: 0.7085 - accuracy: 0.6093\n",
            "Epoch 29/50\n",
            "7/7 [==============================] - 0s 43ms/step - loss: 0.5156 - accuracy: 0.7628\n",
            "Epoch 30/50\n",
            "7/7 [==============================] - 0s 44ms/step - loss: 0.5218 - accuracy: 0.7302\n",
            "Epoch 31/50\n",
            "7/7 [==============================] - 0s 43ms/step - loss: 0.5449 - accuracy: 0.7395\n",
            "Epoch 32/50\n",
            "7/7 [==============================] - 0s 44ms/step - loss: 0.3883 - accuracy: 0.8186\n",
            "Epoch 33/50\n",
            "7/7 [==============================] - 0s 43ms/step - loss: 0.3613 - accuracy: 0.8465\n",
            "Epoch 34/50\n",
            "7/7 [==============================] - 0s 46ms/step - loss: 0.3222 - accuracy: 0.8465\n",
            "Epoch 35/50\n",
            "7/7 [==============================] - 0s 52ms/step - loss: 0.2556 - accuracy: 0.8884\n",
            "Epoch 36/50\n",
            "7/7 [==============================] - 0s 47ms/step - loss: 0.2720 - accuracy: 0.8651\n",
            "Epoch 37/50\n",
            "7/7 [==============================] - 0s 44ms/step - loss: 0.3952 - accuracy: 0.8000\n",
            "Epoch 38/50\n",
            "7/7 [==============================] - 0s 43ms/step - loss: 0.1903 - accuracy: 0.9349\n",
            "Epoch 39/50\n",
            "7/7 [==============================] - 0s 43ms/step - loss: 0.1300 - accuracy: 0.9721\n",
            "Epoch 40/50\n",
            "7/7 [==============================] - 0s 43ms/step - loss: 0.0955 - accuracy: 0.9907\n",
            "Epoch 41/50\n",
            "7/7 [==============================] - 0s 43ms/step - loss: 0.0881 - accuracy: 0.9860\n",
            "Epoch 42/50\n",
            "7/7 [==============================] - 0s 43ms/step - loss: 0.2402 - accuracy: 0.9023\n",
            "Epoch 43/50\n",
            "7/7 [==============================] - 0s 43ms/step - loss: 0.6160 - accuracy: 0.7395\n",
            "Epoch 44/50\n",
            "7/7 [==============================] - 0s 43ms/step - loss: 0.2319 - accuracy: 0.9023\n",
            "Epoch 45/50\n",
            "7/7 [==============================] - 0s 44ms/step - loss: 0.1079 - accuracy: 0.9767\n",
            "Epoch 46/50\n",
            "7/7 [==============================] - 0s 43ms/step - loss: 0.0705 - accuracy: 0.9907\n",
            "Epoch 47/50\n",
            "7/7 [==============================] - 0s 43ms/step - loss: 0.0534 - accuracy: 0.9907\n",
            "Epoch 48/50\n",
            "7/7 [==============================] - 0s 43ms/step - loss: 0.0289 - accuracy: 1.0000\n",
            "Epoch 49/50\n",
            "7/7 [==============================] - 0s 43ms/step - loss: 0.0254 - accuracy: 0.9953\n",
            "Epoch 50/50\n",
            "7/7 [==============================] - 0s 43ms/step - loss: 0.0336 - accuracy: 1.0000\n"
          ]
        }
      ],
      "source": [
        "# histórico\n",
        "historico = network1.fit(X_train, y_train, epochs=50)"
      ]
    },
    {
      "cell_type": "markdown",
      "metadata": {
        "id": "QQY1EiJIvXWK"
      },
      "source": [
        "## Avaliação"
      ]
    },
    {
      "cell_type": "code",
      "execution_count": 25,
      "metadata": {
        "id": "BjDt4e3XvXWK"
      },
      "outputs": [],
      "source": []
    },
    {
      "cell_type": "markdown",
      "metadata": {
        "id": "F9YQmda-vXWK"
      },
      "source": [
        "## Salvar e carregar a rede neural "
      ]
    },
    {
      "cell_type": "code",
      "execution_count": 25,
      "metadata": {
        "id": "TvZbXHZIvXWK"
      },
      "outputs": [],
      "source": []
    },
    {
      "cell_type": "markdown",
      "metadata": {
        "id": "QwMd-wj6vXWK"
      },
      "source": [
        "## Prever nova imagem"
      ]
    },
    {
      "cell_type": "code",
      "execution_count": 25,
      "metadata": {
        "id": "M5YGLMJ7vXWK"
      },
      "outputs": [],
      "source": []
    }
  ],
  "metadata": {
    "kernelspec": {
      "display_name": "Python 3",
      "name": "python3"
    },
    "language_info": {
      "codemirror_mode": {
        "name": "ipython",
        "version": 3
      },
      "file_extension": ".py",
      "mimetype": "text/x-python",
      "name": "python",
      "nbconvert_exporter": "python",
      "pygments_lexer": "ipython3",
      "version": "3.10.6"
    },
    "orig_nbformat": 4,
    "colab": {
      "provenance": [],
      "gpuType": "T4"
    },
    "accelerator": "GPU"
  },
  "nbformat": 4,
  "nbformat_minor": 0
}