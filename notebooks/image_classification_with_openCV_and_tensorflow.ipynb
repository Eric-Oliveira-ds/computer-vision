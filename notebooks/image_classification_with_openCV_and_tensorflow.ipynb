{
  "cells": [
    {
      "cell_type": "markdown",
      "metadata": {
        "id": "84pg9awDvXWA"
      },
      "source": [
        "# Classificação de imagens com openCV e tensorflow\n",
        "- (RNA)"
      ]
    },
    {
      "cell_type": "code",
      "source": [
        "from google.colab import drive\n",
        "drive.mount('/content/drive')"
      ],
      "metadata": {
        "colab": {
          "base_uri": "https://localhost:8080/"
        },
        "id": "8ybgZal7vd74",
        "outputId": "d8e525a3-f291-4b74-a859-800130a8400b"
      },
      "execution_count": 1,
      "outputs": [
        {
          "output_type": "stream",
          "name": "stdout",
          "text": [
            "Drive already mounted at /content/drive; to attempt to forcibly remount, call drive.mount(\"/content/drive\", force_remount=True).\n"
          ]
        }
      ]
    },
    {
      "cell_type": "markdown",
      "metadata": {
        "id": "mHRDeLhWvXWC"
      },
      "source": [
        "## Libs"
      ]
    },
    {
      "cell_type": "code",
      "execution_count": 2,
      "metadata": {
        "id": "HdQR-y5JvXWD"
      },
      "outputs": [],
      "source": [
        "import cv2\n",
        "import numpy as np\n",
        "import os \n",
        "import zipfile \n",
        "from matplotlib import pyplot as plt \n",
        "from google.colab.patches import cv2_imshow\n",
        "import pandas as pd \n",
        "import seaborn as sns \n",
        "import tensorflow as tf\n",
        "from sklearn.preprocessing import MinMaxScaler\n",
        "from sklearn.model_selection import train_test_split\n",
        "from sklearn.metrics import classification_report, confusion_matrix\n",
        "from keras.models import save_model"
      ]
    },
    {
      "cell_type": "code",
      "execution_count": 3,
      "metadata": {
        "colab": {
          "base_uri": "https://localhost:8080/",
          "height": 35
        },
        "id": "SDd9YxWavXWD",
        "outputId": "e89bd201-413c-4669-c06d-433db90c96f4"
      },
      "outputs": [
        {
          "output_type": "execute_result",
          "data": {
            "text/plain": [
              "'2.12.0'"
            ],
            "application/vnd.google.colaboratory.intrinsic+json": {
              "type": "string"
            }
          },
          "metadata": {},
          "execution_count": 3
        }
      ],
      "source": [
        "tf.__version__"
      ]
    },
    {
      "cell_type": "markdown",
      "metadata": {
        "id": "8XCC8QWivXWE"
      },
      "source": [
        "## Extração dos dados não estruturados"
      ]
    },
    {
      "cell_type": "code",
      "execution_count": 4,
      "metadata": {
        "id": "lN5kTNwZvXWE"
      },
      "outputs": [],
      "source": [
        "# Extração dos pixels da imagem\n",
        "path = '/content/drive/MyDrive/Computer Vision/Visão Computacional Guia Completo-20230526T132742Z-001/Visão Computacional Guia Completo/Datasets/homer_bart_1.zip'\n",
        "zip_obj = zipfile.ZipFile(path, mode='r')\n",
        "zip_obj.extractall('./')\n",
        "zip_obj.close()"
      ]
    },
    {
      "cell_type": "code",
      "execution_count": 5,
      "metadata": {
        "id": "6-M3605WvXWE"
      },
      "outputs": [],
      "source": [
        "diretorio = '/content/homer_bart_1'\n",
        "\n",
        "arquivos = [os.path.join(diretorio, f) for f in sorted(os.listdir(diretorio))]"
      ]
    },
    {
      "cell_type": "code",
      "source": [
        "arquivos"
      ],
      "metadata": {
        "colab": {
          "base_uri": "https://localhost:8080/"
        },
        "id": "cvFud90nwWmT",
        "outputId": "76333262-a2d5-47d9-9864-3fcc39989c6e"
      },
      "execution_count": 6,
      "outputs": [
        {
          "output_type": "execute_result",
          "data": {
            "text/plain": [
              "['/content/homer_bart_1/.DS_Store',\n",
              " '/content/homer_bart_1/bart1.bmp',\n",
              " '/content/homer_bart_1/bart10.bmp',\n",
              " '/content/homer_bart_1/bart100.bmp',\n",
              " '/content/homer_bart_1/bart101.bmp',\n",
              " '/content/homer_bart_1/bart102.bmp',\n",
              " '/content/homer_bart_1/bart103.bmp',\n",
              " '/content/homer_bart_1/bart104.bmp',\n",
              " '/content/homer_bart_1/bart105.bmp',\n",
              " '/content/homer_bart_1/bart106.bmp',\n",
              " '/content/homer_bart_1/bart108.bmp',\n",
              " '/content/homer_bart_1/bart109.bmp',\n",
              " '/content/homer_bart_1/bart11.bmp',\n",
              " '/content/homer_bart_1/bart110.bmp',\n",
              " '/content/homer_bart_1/bart111.bmp',\n",
              " '/content/homer_bart_1/bart112.bmp',\n",
              " '/content/homer_bart_1/bart113.bmp',\n",
              " '/content/homer_bart_1/bart114.bmp',\n",
              " '/content/homer_bart_1/bart115.bmp',\n",
              " '/content/homer_bart_1/bart116.bmp',\n",
              " '/content/homer_bart_1/bart117.bmp',\n",
              " '/content/homer_bart_1/bart118.bmp',\n",
              " '/content/homer_bart_1/bart119.bmp',\n",
              " '/content/homer_bart_1/bart12.bmp',\n",
              " '/content/homer_bart_1/bart120.bmp',\n",
              " '/content/homer_bart_1/bart121.bmp',\n",
              " '/content/homer_bart_1/bart122.bmp',\n",
              " '/content/homer_bart_1/bart123.bmp',\n",
              " '/content/homer_bart_1/bart124.bmp',\n",
              " '/content/homer_bart_1/bart125.bmp',\n",
              " '/content/homer_bart_1/bart126.bmp',\n",
              " '/content/homer_bart_1/bart127.bmp',\n",
              " '/content/homer_bart_1/bart128.bmp',\n",
              " '/content/homer_bart_1/bart13.bmp',\n",
              " '/content/homer_bart_1/bart130.bmp',\n",
              " '/content/homer_bart_1/bart131.bmp',\n",
              " '/content/homer_bart_1/bart132.bmp',\n",
              " '/content/homer_bart_1/bart133.bmp',\n",
              " '/content/homer_bart_1/bart134.bmp',\n",
              " '/content/homer_bart_1/bart135.bmp',\n",
              " '/content/homer_bart_1/bart136.bmp',\n",
              " '/content/homer_bart_1/bart137.bmp',\n",
              " '/content/homer_bart_1/bart138.bmp',\n",
              " '/content/homer_bart_1/bart139.bmp',\n",
              " '/content/homer_bart_1/bart14.bmp',\n",
              " '/content/homer_bart_1/bart141.bmp',\n",
              " '/content/homer_bart_1/bart142.bmp',\n",
              " '/content/homer_bart_1/bart143.bmp',\n",
              " '/content/homer_bart_1/bart144.bmp',\n",
              " '/content/homer_bart_1/bart145.bmp',\n",
              " '/content/homer_bart_1/bart146.bmp',\n",
              " '/content/homer_bart_1/bart147.bmp',\n",
              " '/content/homer_bart_1/bart148.bmp',\n",
              " '/content/homer_bart_1/bart149.bmp',\n",
              " '/content/homer_bart_1/bart15.bmp',\n",
              " '/content/homer_bart_1/bart150.bmp',\n",
              " '/content/homer_bart_1/bart151.bmp',\n",
              " '/content/homer_bart_1/bart153.bmp',\n",
              " '/content/homer_bart_1/bart154.bmp',\n",
              " '/content/homer_bart_1/bart155.bmp',\n",
              " '/content/homer_bart_1/bart156.bmp',\n",
              " '/content/homer_bart_1/bart157.bmp',\n",
              " '/content/homer_bart_1/bart158.bmp',\n",
              " '/content/homer_bart_1/bart159.bmp',\n",
              " '/content/homer_bart_1/bart16.bmp',\n",
              " '/content/homer_bart_1/bart160.bmp',\n",
              " '/content/homer_bart_1/bart161.bmp',\n",
              " '/content/homer_bart_1/bart162.bmp',\n",
              " '/content/homer_bart_1/bart164.bmp',\n",
              " '/content/homer_bart_1/bart165.bmp',\n",
              " '/content/homer_bart_1/bart166.bmp',\n",
              " '/content/homer_bart_1/bart167.bmp',\n",
              " '/content/homer_bart_1/bart168.bmp',\n",
              " '/content/homer_bart_1/bart169.bmp',\n",
              " '/content/homer_bart_1/bart17.bmp',\n",
              " '/content/homer_bart_1/bart18.bmp',\n",
              " '/content/homer_bart_1/bart19.bmp',\n",
              " '/content/homer_bart_1/bart2.bmp',\n",
              " '/content/homer_bart_1/bart20.bmp',\n",
              " '/content/homer_bart_1/bart21.bmp',\n",
              " '/content/homer_bart_1/bart22.bmp',\n",
              " '/content/homer_bart_1/bart23.bmp',\n",
              " '/content/homer_bart_1/bart24.bmp',\n",
              " '/content/homer_bart_1/bart25.bmp',\n",
              " '/content/homer_bart_1/bart26.bmp',\n",
              " '/content/homer_bart_1/bart27.bmp',\n",
              " '/content/homer_bart_1/bart28.bmp',\n",
              " '/content/homer_bart_1/bart29.bmp',\n",
              " '/content/homer_bart_1/bart3.bmp',\n",
              " '/content/homer_bart_1/bart30.bmp',\n",
              " '/content/homer_bart_1/bart31.bmp',\n",
              " '/content/homer_bart_1/bart32.bmp',\n",
              " '/content/homer_bart_1/bart34.bmp',\n",
              " '/content/homer_bart_1/bart35.bmp',\n",
              " '/content/homer_bart_1/bart36.bmp',\n",
              " '/content/homer_bart_1/bart37.bmp',\n",
              " '/content/homer_bart_1/bart38.bmp',\n",
              " '/content/homer_bart_1/bart39.bmp',\n",
              " '/content/homer_bart_1/bart4.bmp',\n",
              " '/content/homer_bart_1/bart40.bmp',\n",
              " '/content/homer_bart_1/bart42.bmp',\n",
              " '/content/homer_bart_1/bart43.bmp',\n",
              " '/content/homer_bart_1/bart44.bmp',\n",
              " '/content/homer_bart_1/bart45.bmp',\n",
              " '/content/homer_bart_1/bart46.bmp',\n",
              " '/content/homer_bart_1/bart47.bmp',\n",
              " '/content/homer_bart_1/bart48.bmp',\n",
              " '/content/homer_bart_1/bart49.bmp',\n",
              " '/content/homer_bart_1/bart5.bmp',\n",
              " '/content/homer_bart_1/bart50.bmp',\n",
              " '/content/homer_bart_1/bart51.bmp',\n",
              " '/content/homer_bart_1/bart52.bmp',\n",
              " '/content/homer_bart_1/bart53.bmp',\n",
              " '/content/homer_bart_1/bart54.bmp',\n",
              " '/content/homer_bart_1/bart55.bmp',\n",
              " '/content/homer_bart_1/bart56.bmp',\n",
              " '/content/homer_bart_1/bart57.bmp',\n",
              " '/content/homer_bart_1/bart58.bmp',\n",
              " '/content/homer_bart_1/bart59.bmp',\n",
              " '/content/homer_bart_1/bart6.bmp',\n",
              " '/content/homer_bart_1/bart60.bmp',\n",
              " '/content/homer_bart_1/bart61.bmp',\n",
              " '/content/homer_bart_1/bart62.bmp',\n",
              " '/content/homer_bart_1/bart63.bmp',\n",
              " '/content/homer_bart_1/bart64.bmp',\n",
              " '/content/homer_bart_1/bart65.bmp',\n",
              " '/content/homer_bart_1/bart66.bmp',\n",
              " '/content/homer_bart_1/bart67.bmp',\n",
              " '/content/homer_bart_1/bart68.bmp',\n",
              " '/content/homer_bart_1/bart69.bmp',\n",
              " '/content/homer_bart_1/bart7.bmp',\n",
              " '/content/homer_bart_1/bart70.bmp',\n",
              " '/content/homer_bart_1/bart71.bmp',\n",
              " '/content/homer_bart_1/bart72.bmp',\n",
              " '/content/homer_bart_1/bart73.bmp',\n",
              " '/content/homer_bart_1/bart74.bmp',\n",
              " '/content/homer_bart_1/bart75.bmp',\n",
              " '/content/homer_bart_1/bart76.bmp',\n",
              " '/content/homer_bart_1/bart77.bmp',\n",
              " '/content/homer_bart_1/bart79.bmp',\n",
              " '/content/homer_bart_1/bart8.bmp',\n",
              " '/content/homer_bart_1/bart80.bmp',\n",
              " '/content/homer_bart_1/bart81.bmp',\n",
              " '/content/homer_bart_1/bart82.bmp',\n",
              " '/content/homer_bart_1/bart83.bmp',\n",
              " '/content/homer_bart_1/bart84.bmp',\n",
              " '/content/homer_bart_1/bart85.bmp',\n",
              " '/content/homer_bart_1/bart86.bmp',\n",
              " '/content/homer_bart_1/bart87.bmp',\n",
              " '/content/homer_bart_1/bart89.bmp',\n",
              " '/content/homer_bart_1/bart9.bmp',\n",
              " '/content/homer_bart_1/bart90.bmp',\n",
              " '/content/homer_bart_1/bart91.bmp',\n",
              " '/content/homer_bart_1/bart92.bmp',\n",
              " '/content/homer_bart_1/bart93.bmp',\n",
              " '/content/homer_bart_1/bart94.bmp',\n",
              " '/content/homer_bart_1/bart95.bmp',\n",
              " '/content/homer_bart_1/bart96.bmp',\n",
              " '/content/homer_bart_1/bart97.bmp',\n",
              " '/content/homer_bart_1/bart98.bmp',\n",
              " '/content/homer_bart_1/bart99.bmp',\n",
              " '/content/homer_bart_1/homer1.bmp',\n",
              " '/content/homer_bart_1/homer10.bmp',\n",
              " '/content/homer_bart_1/homer100.bmp',\n",
              " '/content/homer_bart_1/homer101.bmp',\n",
              " '/content/homer_bart_1/homer102.bmp',\n",
              " '/content/homer_bart_1/homer103.bmp',\n",
              " '/content/homer_bart_1/homer104.bmp',\n",
              " '/content/homer_bart_1/homer105.bmp',\n",
              " '/content/homer_bart_1/homer106.bmp',\n",
              " '/content/homer_bart_1/homer107.bmp',\n",
              " '/content/homer_bart_1/homer109.bmp',\n",
              " '/content/homer_bart_1/homer110.bmp',\n",
              " '/content/homer_bart_1/homer112.bmp',\n",
              " '/content/homer_bart_1/homer113.bmp',\n",
              " '/content/homer_bart_1/homer115.bmp',\n",
              " '/content/homer_bart_1/homer116.bmp',\n",
              " '/content/homer_bart_1/homer117.bmp',\n",
              " '/content/homer_bart_1/homer119.bmp',\n",
              " '/content/homer_bart_1/homer120.bmp',\n",
              " '/content/homer_bart_1/homer121.bmp',\n",
              " '/content/homer_bart_1/homer122.bmp',\n",
              " '/content/homer_bart_1/homer123.bmp',\n",
              " '/content/homer_bart_1/homer124.bmp',\n",
              " '/content/homer_bart_1/homer13.bmp',\n",
              " '/content/homer_bart_1/homer14.bmp',\n",
              " '/content/homer_bart_1/homer15.bmp',\n",
              " '/content/homer_bart_1/homer16.bmp',\n",
              " '/content/homer_bart_1/homer17.bmp',\n",
              " '/content/homer_bart_1/homer18.bmp',\n",
              " '/content/homer_bart_1/homer2.bmp',\n",
              " '/content/homer_bart_1/homer20.bmp',\n",
              " '/content/homer_bart_1/homer21.bmp',\n",
              " '/content/homer_bart_1/homer22.bmp',\n",
              " '/content/homer_bart_1/homer23.bmp',\n",
              " '/content/homer_bart_1/homer24.bmp',\n",
              " '/content/homer_bart_1/homer26.bmp',\n",
              " '/content/homer_bart_1/homer27.bmp',\n",
              " '/content/homer_bart_1/homer28.bmp',\n",
              " '/content/homer_bart_1/homer29.bmp',\n",
              " '/content/homer_bart_1/homer3.bmp',\n",
              " '/content/homer_bart_1/homer30.bmp',\n",
              " '/content/homer_bart_1/homer31.bmp',\n",
              " '/content/homer_bart_1/homer32.bmp',\n",
              " '/content/homer_bart_1/homer33.bmp',\n",
              " '/content/homer_bart_1/homer34.bmp',\n",
              " '/content/homer_bart_1/homer35.bmp',\n",
              " '/content/homer_bart_1/homer36.bmp',\n",
              " '/content/homer_bart_1/homer37.bmp',\n",
              " '/content/homer_bart_1/homer38.bmp',\n",
              " '/content/homer_bart_1/homer4.bmp',\n",
              " '/content/homer_bart_1/homer40.bmp',\n",
              " '/content/homer_bart_1/homer41.bmp',\n",
              " '/content/homer_bart_1/homer43.bmp',\n",
              " '/content/homer_bart_1/homer44.bmp',\n",
              " '/content/homer_bart_1/homer45.bmp',\n",
              " '/content/homer_bart_1/homer46.bmp',\n",
              " '/content/homer_bart_1/homer47.bmp',\n",
              " '/content/homer_bart_1/homer48.bmp',\n",
              " '/content/homer_bart_1/homer49.bmp',\n",
              " '/content/homer_bart_1/homer5.bmp',\n",
              " '/content/homer_bart_1/homer50.bmp',\n",
              " '/content/homer_bart_1/homer51.bmp',\n",
              " '/content/homer_bart_1/homer52.bmp',\n",
              " '/content/homer_bart_1/homer54.bmp',\n",
              " '/content/homer_bart_1/homer55.bmp',\n",
              " '/content/homer_bart_1/homer56.bmp',\n",
              " '/content/homer_bart_1/homer57.bmp',\n",
              " '/content/homer_bart_1/homer58.bmp',\n",
              " '/content/homer_bart_1/homer59.bmp',\n",
              " '/content/homer_bart_1/homer6.bmp',\n",
              " '/content/homer_bart_1/homer60.bmp',\n",
              " '/content/homer_bart_1/homer61.bmp',\n",
              " '/content/homer_bart_1/homer62.bmp',\n",
              " '/content/homer_bart_1/homer63.bmp',\n",
              " '/content/homer_bart_1/homer65.bmp',\n",
              " '/content/homer_bart_1/homer66.bmp',\n",
              " '/content/homer_bart_1/homer68.bmp',\n",
              " '/content/homer_bart_1/homer69.bmp',\n",
              " '/content/homer_bart_1/homer7.bmp',\n",
              " '/content/homer_bart_1/homer70.bmp',\n",
              " '/content/homer_bart_1/homer71.bmp',\n",
              " '/content/homer_bart_1/homer72.bmp',\n",
              " '/content/homer_bart_1/homer73.bmp',\n",
              " '/content/homer_bart_1/homer74.bmp',\n",
              " '/content/homer_bart_1/homer75.bmp',\n",
              " '/content/homer_bart_1/homer76.bmp',\n",
              " '/content/homer_bart_1/homer77.bmp',\n",
              " '/content/homer_bart_1/homer78.bmp',\n",
              " '/content/homer_bart_1/homer79.bmp',\n",
              " '/content/homer_bart_1/homer8.bmp',\n",
              " '/content/homer_bart_1/homer80.bmp',\n",
              " '/content/homer_bart_1/homer81.bmp',\n",
              " '/content/homer_bart_1/homer82.bmp',\n",
              " '/content/homer_bart_1/homer83.bmp',\n",
              " '/content/homer_bart_1/homer84.bmp',\n",
              " '/content/homer_bart_1/homer85.bmp',\n",
              " '/content/homer_bart_1/homer86.bmp',\n",
              " '/content/homer_bart_1/homer87.bmp',\n",
              " '/content/homer_bart_1/homer9.bmp',\n",
              " '/content/homer_bart_1/homer90.bmp',\n",
              " '/content/homer_bart_1/homer91.bmp',\n",
              " '/content/homer_bart_1/homer92.bmp',\n",
              " '/content/homer_bart_1/homer93.bmp',\n",
              " '/content/homer_bart_1/homer94.bmp',\n",
              " '/content/homer_bart_1/homer95.bmp',\n",
              " '/content/homer_bart_1/homer96.bmp',\n",
              " '/content/homer_bart_1/homer97.bmp',\n",
              " '/content/homer_bart_1/homer98.bmp',\n",
              " '/content/homer_bart_1/homer99.bmp']"
            ]
          },
          "metadata": {},
          "execution_count": 6
        }
      ]
    },
    {
      "cell_type": "markdown",
      "metadata": {
        "id": "xrNVokWKvXWF"
      },
      "source": [
        "## Pré-processamento"
      ]
    },
    {
      "cell_type": "code",
      "execution_count": 7,
      "metadata": {
        "id": "MEG9nTIuvXWF"
      },
      "outputs": [],
      "source": [
        "# tratamento de imagens \n",
        "largura = 128\n",
        "altura = 128"
      ]
    },
    {
      "cell_type": "code",
      "execution_count": 8,
      "metadata": {
        "id": "s3g42pStvXWG"
      },
      "outputs": [],
      "source": [
        "# pixels da imagem\n",
        "imagens = []\n",
        "# classes homer e bart\n",
        "classes = []"
      ]
    },
    {
      "cell_type": "code",
      "execution_count": 9,
      "metadata": {
        "id": "6yRJOjN7vXWG"
      },
      "outputs": [],
      "source": [
        "for imagem_caminho in arquivos:\n",
        "    #print(imagem_caminho)\n",
        "    try:\n",
        "\n",
        "        imagem = cv2.imread(imagem_caminho)\n",
        "        # altura e largura\n",
        "        (h, w) = imagem.shape[:2]\n",
        "    except:\n",
        "        continue\n",
        "\n",
        "    imagem = cv2.resize(imagem, (largura, altura))\n",
        "    imagem = cv2.cvtColor(imagem , cv2.COLOR_BGR2GRAY)\n",
        "    #plt.imshow(imagem)\n",
        "    #plt.show()\n",
        "\n",
        "    # converter de matriz para vetor\n",
        "    imagem =  imagem.ravel()\n",
        "    #print(imagem.shape)\n",
        "    # add na lista de imagens\n",
        "    imagens.append(imagem)\n",
        "    # add classes\n",
        "    nome_imagem = os.path.basename(os.path.normpath(imagem_caminho))\n",
        "    #print(nome_imagem)\n",
        "    if nome_imagem.startswith('b'):\n",
        "        classe = 0\n",
        "    else:\n",
        "        classe = 1\n",
        "    classes.append(classe)\n",
        "    #print(classe)\n"
      ]
    },
    {
      "cell_type": "code",
      "execution_count": 10,
      "metadata": {
        "colab": {
          "base_uri": "https://localhost:8080/"
        },
        "id": "n2OKWdYCvXWG",
        "outputId": "9c8a0c7a-06c2-49a5-c822-99e632c1e715"
      },
      "outputs": [
        {
          "output_type": "execute_result",
          "data": {
            "text/plain": [
              "(array([255, 255, 255, ..., 255, 255, 255], dtype=uint8), 0)"
            ]
          },
          "metadata": {},
          "execution_count": 10
        }
      ],
      "source": [
        "# exemplo bart\n",
        "imagens[0], classes[0]"
      ]
    },
    {
      "cell_type": "code",
      "execution_count": 11,
      "metadata": {
        "colab": {
          "base_uri": "https://localhost:8080/"
        },
        "id": "S8Sewj-1vXWG",
        "outputId": "b25f7fa1-2c06-4613-cf8c-9dc9ef120caa"
      },
      "outputs": [
        {
          "output_type": "execute_result",
          "data": {
            "text/plain": [
              "(array([255, 255, 255, ..., 255, 255, 255], dtype=uint8), 1)"
            ]
          },
          "metadata": {},
          "execution_count": 11
        }
      ],
      "source": [
        "# exemplo homer\n",
        "imagens[200], classes[200]"
      ]
    },
    {
      "cell_type": "markdown",
      "metadata": {
        "id": "xsuBUjwavXWH"
      },
      "source": [
        "## Split inicial"
      ]
    },
    {
      "cell_type": "code",
      "execution_count": 12,
      "metadata": {
        "id": "DqMjTgqsvXWH"
      },
      "outputs": [],
      "source": [
        "X = np.asarray(imagens)\n",
        "y = np.asarray(classes)"
      ]
    },
    {
      "cell_type": "code",
      "execution_count": 13,
      "metadata": {
        "colab": {
          "base_uri": "https://localhost:8080/"
        },
        "id": "eeQwNZ-avXWH",
        "outputId": "ad596bf2-2795-4d95-f0fc-350dc8d5419c"
      },
      "outputs": [
        {
          "output_type": "execute_result",
          "data": {
            "text/plain": [
              "(269, 16384)"
            ]
          },
          "metadata": {},
          "execution_count": 13
        }
      ],
      "source": [
        "X.shape"
      ]
    },
    {
      "cell_type": "code",
      "execution_count": 14,
      "metadata": {
        "colab": {
          "base_uri": "https://localhost:8080/"
        },
        "id": "Ud2dY2rNvXWH",
        "outputId": "831feeb1-0d0e-4338-d9ca-a57716f38e18"
      },
      "outputs": [
        {
          "output_type": "execute_result",
          "data": {
            "text/plain": [
              "(269,)"
            ]
          },
          "metadata": {},
          "execution_count": 14
        }
      ],
      "source": [
        "y.shape"
      ]
    },
    {
      "cell_type": "code",
      "execution_count": 15,
      "metadata": {
        "colab": {
          "base_uri": "https://localhost:8080/"
        },
        "id": "0Uw9U_UvvXWH",
        "outputId": "d7453c78-17bf-4130-a6f9-dc8faf5de48c"
      },
      "outputs": [
        {
          "output_type": "execute_result",
          "data": {
            "text/plain": [
              "(array([0, 1]), array([160, 109]))"
            ]
          },
          "metadata": {},
          "execution_count": 15
        }
      ],
      "source": [
        "np.unique(y, return_counts=True)"
      ]
    },
    {
      "cell_type": "markdown",
      "metadata": {
        "id": "XEnG_9FmvXWI"
      },
      "source": [
        "## Normalização dos dados"
      ]
    },
    {
      "cell_type": "code",
      "execution_count": 16,
      "metadata": {
        "id": "dA0QN7U1vXWI"
      },
      "outputs": [],
      "source": [
        "scaler = MinMaxScaler()"
      ]
    },
    {
      "cell_type": "code",
      "execution_count": 17,
      "metadata": {
        "id": "quF6nFBmvXWI"
      },
      "outputs": [],
      "source": [
        "scaler.fit(X)\n",
        "X = scaler.transform(X)"
      ]
    },
    {
      "cell_type": "markdown",
      "metadata": {
        "id": "vj3rKwgYvXWI"
      },
      "source": [
        "## Divisão treino e teste"
      ]
    },
    {
      "cell_type": "code",
      "execution_count": 18,
      "metadata": {
        "colab": {
          "base_uri": "https://localhost:8080/"
        },
        "id": "lPJkXR62vXWI",
        "outputId": "b588ca65-f227-4356-8cc2-4704300bcb4a"
      },
      "outputs": [
        {
          "output_type": "execute_result",
          "data": {
            "text/plain": [
              "((269, 16384), (269,))"
            ]
          },
          "metadata": {},
          "execution_count": 18
        }
      ],
      "source": [
        "X.shape , y.shape"
      ]
    },
    {
      "cell_type": "code",
      "execution_count": 19,
      "metadata": {
        "id": "C0MzzpWAvXWI"
      },
      "outputs": [],
      "source": [
        "X_train, X_test, y_train, y_test = train_test_split(X, y, test_size=0.2, random_state=1)"
      ]
    },
    {
      "cell_type": "code",
      "execution_count": 20,
      "metadata": {
        "colab": {
          "base_uri": "https://localhost:8080/"
        },
        "id": "D-J8LKKRvXWI",
        "outputId": "7921b0b4-7b26-49ad-ea8a-c1498d0d7024"
      },
      "outputs": [
        {
          "output_type": "execute_result",
          "data": {
            "text/plain": [
              "((215, 16384), (215,), (54, 16384), (54,))"
            ]
          },
          "metadata": {},
          "execution_count": 20
        }
      ],
      "source": [
        "X_train.shape, y_train.shape, X_test.shape, y_test.shape"
      ]
    },
    {
      "cell_type": "markdown",
      "metadata": {
        "id": "UY5TReAdvXWJ"
      },
      "source": [
        "## Modelagem\n",
        "\n",
        "    - Construção da rede neural"
      ]
    },
    {
      "cell_type": "code",
      "execution_count": 21,
      "metadata": {
        "colab": {
          "base_uri": "https://localhost:8080/"
        },
        "id": "vKfzuWjgvXWJ",
        "outputId": "6ac21a54-0dfd-4b6d-fb65-613b74383ddb"
      },
      "outputs": [
        {
          "output_type": "execute_result",
          "data": {
            "text/plain": [
              "8193.0"
            ]
          },
          "metadata": {},
          "execution_count": 21
        }
      ],
      "source": [
        "# neurônios\n",
        "(16384 + 2 ) / 2"
      ]
    },
    {
      "cell_type": "code",
      "execution_count": 22,
      "metadata": {
        "id": "WnNnuAxJvXWJ"
      },
      "outputs": [],
      "source": [
        "network1 = tf.keras.models.Sequential()\n",
        "# camadas\n",
        "network1.add(tf.keras.layers.Dense(input_shape = (16384,), units=8183, activation='relu') )\n",
        "# camada oculta\n",
        "network1.add(tf.keras.layers.Dense(units=8193, activation='relu'))\n",
        "# camada saída\n",
        "network1.add(tf.keras.layers.Dense(units=1, activation='sigmoid'))"
      ]
    },
    {
      "cell_type": "code",
      "execution_count": 23,
      "metadata": {
        "colab": {
          "base_uri": "https://localhost:8080/"
        },
        "id": "aV9hBQXpvXWJ",
        "outputId": "8511f7ea-df2c-4d2f-ab1b-b12288c85dfa"
      },
      "outputs": [
        {
          "output_type": "stream",
          "name": "stdout",
          "text": [
            "Model: \"sequential\"\n",
            "_________________________________________________________________\n",
            " Layer (type)                Output Shape              Param #   \n",
            "=================================================================\n",
            " dense (Dense)               (None, 8183)              134078455 \n",
            "                                                                 \n",
            " dense_1 (Dense)             (None, 8193)              67051512  \n",
            "                                                                 \n",
            " dense_2 (Dense)             (None, 1)                 8194      \n",
            "                                                                 \n",
            "=================================================================\n",
            "Total params: 201,138,161\n",
            "Trainable params: 201,138,161\n",
            "Non-trainable params: 0\n",
            "_________________________________________________________________\n"
          ]
        }
      ],
      "source": [
        "# estrurura da rede\n",
        "network1.summary()"
      ]
    },
    {
      "cell_type": "code",
      "execution_count": 24,
      "metadata": {
        "id": "cICouVbkvXWJ"
      },
      "outputs": [],
      "source": [
        "# treinamento\n",
        "network1.compile(optimizer='Adam', loss='binary_crossentropy', metrics=['accuracy'])"
      ]
    },
    {
      "cell_type": "code",
      "execution_count": 25,
      "metadata": {
        "colab": {
          "base_uri": "https://localhost:8080/"
        },
        "id": "J96FgcPrvXWK",
        "outputId": "6d9f5388-25c8-47e8-d7c2-0c4a864a0d5d"
      },
      "outputs": [
        {
          "output_type": "stream",
          "name": "stdout",
          "text": [
            "Epoch 1/50\n",
            "7/7 [==============================] - 5s 62ms/step - loss: 137.6531 - accuracy: 0.5209\n",
            "Epoch 2/50\n",
            "7/7 [==============================] - 0s 56ms/step - loss: 5.1435 - accuracy: 0.4558\n",
            "Epoch 3/50\n",
            "7/7 [==============================] - 0s 62ms/step - loss: 1.5494 - accuracy: 0.5256\n",
            "Epoch 4/50\n",
            "7/7 [==============================] - 0s 60ms/step - loss: 0.7693 - accuracy: 0.5442\n",
            "Epoch 5/50\n",
            "7/7 [==============================] - 0s 51ms/step - loss: 0.8396 - accuracy: 0.5442\n",
            "Epoch 6/50\n",
            "7/7 [==============================] - 0s 61ms/step - loss: 0.6842 - accuracy: 0.5814\n",
            "Epoch 7/50\n",
            "7/7 [==============================] - 0s 58ms/step - loss: 0.8203 - accuracy: 0.5349\n",
            "Epoch 8/50\n",
            "7/7 [==============================] - 0s 57ms/step - loss: 0.7045 - accuracy: 0.5860\n",
            "Epoch 9/50\n",
            "7/7 [==============================] - 0s 62ms/step - loss: 0.6736 - accuracy: 0.5860\n",
            "Epoch 10/50\n",
            "7/7 [==============================] - 0s 66ms/step - loss: 0.7370 - accuracy: 0.5860\n",
            "Epoch 11/50\n",
            "7/7 [==============================] - 0s 62ms/step - loss: 0.6338 - accuracy: 0.5953\n",
            "Epoch 12/50\n",
            "7/7 [==============================] - 0s 46ms/step - loss: 0.5692 - accuracy: 0.7070\n",
            "Epoch 13/50\n",
            "7/7 [==============================] - 0s 50ms/step - loss: 0.5979 - accuracy: 0.6977\n",
            "Epoch 14/50\n",
            "7/7 [==============================] - 0s 46ms/step - loss: 0.6659 - accuracy: 0.6093\n",
            "Epoch 15/50\n",
            "7/7 [==============================] - 0s 52ms/step - loss: 0.6097 - accuracy: 0.7070\n",
            "Epoch 16/50\n",
            "7/7 [==============================] - 0s 57ms/step - loss: 0.5133 - accuracy: 0.7395\n",
            "Epoch 17/50\n",
            "7/7 [==============================] - 0s 54ms/step - loss: 0.6301 - accuracy: 0.6791\n",
            "Epoch 18/50\n",
            "7/7 [==============================] - 0s 53ms/step - loss: 0.6318 - accuracy: 0.6651\n",
            "Epoch 19/50\n",
            "7/7 [==============================] - 0s 58ms/step - loss: 0.4752 - accuracy: 0.7535\n",
            "Epoch 20/50\n",
            "7/7 [==============================] - 0s 47ms/step - loss: 0.3983 - accuracy: 0.8512\n",
            "Epoch 21/50\n",
            "7/7 [==============================] - 0s 49ms/step - loss: 0.4105 - accuracy: 0.7907\n",
            "Epoch 22/50\n",
            "7/7 [==============================] - 0s 49ms/step - loss: 0.4545 - accuracy: 0.7814\n",
            "Epoch 23/50\n",
            "7/7 [==============================] - 0s 47ms/step - loss: 0.5677 - accuracy: 0.7302\n",
            "Epoch 24/50\n",
            "7/7 [==============================] - 0s 51ms/step - loss: 0.5240 - accuracy: 0.7256\n",
            "Epoch 25/50\n",
            "7/7 [==============================] - 0s 47ms/step - loss: 0.5633 - accuracy: 0.6977\n",
            "Epoch 26/50\n",
            "7/7 [==============================] - 0s 51ms/step - loss: 0.4272 - accuracy: 0.8233\n",
            "Epoch 27/50\n",
            "7/7 [==============================] - 0s 55ms/step - loss: 0.2889 - accuracy: 0.8930\n",
            "Epoch 28/50\n",
            "7/7 [==============================] - 0s 52ms/step - loss: 0.2615 - accuracy: 0.8930\n",
            "Epoch 29/50\n",
            "7/7 [==============================] - 0s 47ms/step - loss: 0.3075 - accuracy: 0.8651\n",
            "Epoch 30/50\n",
            "7/7 [==============================] - 0s 43ms/step - loss: 0.4675 - accuracy: 0.7953\n",
            "Epoch 31/50\n",
            "7/7 [==============================] - 0s 43ms/step - loss: 0.7389 - accuracy: 0.6465\n",
            "Epoch 32/50\n",
            "7/7 [==============================] - 0s 43ms/step - loss: 0.4804 - accuracy: 0.7860\n",
            "Epoch 33/50\n",
            "7/7 [==============================] - 0s 43ms/step - loss: 0.4148 - accuracy: 0.7907\n",
            "Epoch 34/50\n",
            "7/7 [==============================] - 0s 42ms/step - loss: 0.3646 - accuracy: 0.8093\n",
            "Epoch 35/50\n",
            "7/7 [==============================] - 0s 42ms/step - loss: 0.2467 - accuracy: 0.8930\n",
            "Epoch 36/50\n",
            "7/7 [==============================] - 0s 42ms/step - loss: 0.2423 - accuracy: 0.8791\n",
            "Epoch 37/50\n",
            "7/7 [==============================] - 0s 42ms/step - loss: 0.5897 - accuracy: 0.7442\n",
            "Epoch 38/50\n",
            "7/7 [==============================] - 0s 42ms/step - loss: 0.2462 - accuracy: 0.8977\n",
            "Epoch 39/50\n",
            "7/7 [==============================] - 0s 43ms/step - loss: 0.1515 - accuracy: 0.9674\n",
            "Epoch 40/50\n",
            "7/7 [==============================] - 0s 43ms/step - loss: 0.0786 - accuracy: 0.9814\n",
            "Epoch 41/50\n",
            "7/7 [==============================] - 0s 46ms/step - loss: 0.0540 - accuracy: 0.9907\n",
            "Epoch 42/50\n",
            "7/7 [==============================] - 0s 45ms/step - loss: 0.0502 - accuracy: 0.9907\n",
            "Epoch 43/50\n",
            "7/7 [==============================] - 0s 45ms/step - loss: 0.0283 - accuracy: 0.9953\n",
            "Epoch 44/50\n",
            "7/7 [==============================] - 0s 47ms/step - loss: 0.2054 - accuracy: 0.9116\n",
            "Epoch 45/50\n",
            "7/7 [==============================] - 0s 46ms/step - loss: 1.6136 - accuracy: 0.7163\n",
            "Epoch 46/50\n",
            "7/7 [==============================] - 0s 45ms/step - loss: 0.8637 - accuracy: 0.5767\n",
            "Epoch 47/50\n",
            "7/7 [==============================] - 0s 45ms/step - loss: 0.5865 - accuracy: 0.7209\n",
            "Epoch 48/50\n",
            "7/7 [==============================] - 0s 46ms/step - loss: 0.4959 - accuracy: 0.7209\n",
            "Epoch 49/50\n",
            "7/7 [==============================] - 0s 44ms/step - loss: 0.5920 - accuracy: 0.6744\n",
            "Epoch 50/50\n",
            "7/7 [==============================] - 0s 43ms/step - loss: 0.6552 - accuracy: 0.6837\n"
          ]
        }
      ],
      "source": [
        "# histórico\n",
        "historico = network1.fit(X_train, y_train, epochs=50)"
      ]
    },
    {
      "cell_type": "markdown",
      "metadata": {
        "id": "QQY1EiJIvXWK"
      },
      "source": [
        "## Avaliação na base de treino"
      ]
    },
    {
      "cell_type": "code",
      "execution_count": 26,
      "metadata": {
        "colab": {
          "base_uri": "https://localhost:8080/"
        },
        "id": "BjDt4e3XvXWK",
        "outputId": "0ed8f156-caba-410a-d26b-4379163145b5"
      },
      "outputs": [
        {
          "output_type": "execute_result",
          "data": {
            "text/plain": [
              "dict_keys(['loss', 'accuracy'])"
            ]
          },
          "metadata": {},
          "execution_count": 26
        }
      ],
      "source": [
        "historico.history.keys()"
      ]
    },
    {
      "cell_type": "code",
      "source": [
        "plt.plot(historico.history['loss'], label='Loss')\n",
        "plt.xlabel('Época')\n",
        "plt.ylabel('Valor')\n",
        "plt.title('Curvas de Loss')\n",
        "plt.legend()\n",
        "plt.show()"
      ],
      "metadata": {
        "colab": {
          "base_uri": "https://localhost:8080/",
          "height": 474
        },
        "id": "HcMuCJrz3Gsq",
        "outputId": "dc0eefac-66ca-49b0-95a7-4f36b8be5e78"
      },
      "execution_count": 27,
      "outputs": [
        {
          "output_type": "display_data",
          "data": {
            "text/plain": [
              "<Figure size 640x480 with 1 Axes>"
            ],
            "image/png": "[encoded data removed]"
          },
          "metadata": {}
        }
      ]
    },
    {
      "cell_type": "code",
      "source": [
        "plt.plot(historico.history['accuracy'], label='Accuracy')\n",
        "plt.xlabel('Época')\n",
        "plt.ylabel('Valor')\n",
        "plt.title('Acurácia')\n",
        "plt.legend()\n",
        "plt.show()"
      ],
      "metadata": {
        "colab": {
          "base_uri": "https://localhost:8080/",
          "height": 474
        },
        "id": "JrZVHuXu3Gpq",
        "outputId": "8de3fcf4-1254-455e-d296-e23fb949e2d7"
      },
      "execution_count": 28,
      "outputs": [
        {
          "output_type": "display_data",
          "data": {
            "text/plain": [
              "<Figure size 640x480 with 1 Axes>"
            ],
            "image/png": "[encoded data removed]"
          },
          "metadata": {}
        }
      ]
    },
    {
      "cell_type": "markdown",
      "source": [
        "## Teste"
      ],
      "metadata": {
        "id": "_eX5VYBb5hOa"
      }
    },
    {
      "cell_type": "code",
      "source": [
        "previsoes = network1.predict(X_test)"
      ],
      "metadata": {
        "id": "IUmPRzXI5jvq",
        "outputId": "88a5c264-ab38-44ce-f22d-f20e72b1cecd",
        "colab": {
          "base_uri": "https://localhost:8080/"
        }
      },
      "execution_count": 29,
      "outputs": [
        {
          "output_type": "stream",
          "name": "stdout",
          "text": [
            "2/2 [==============================] - 0s 7ms/step\n"
          ]
        }
      ]
    },
    {
      "cell_type": "code",
      "source": [
        "previsoes"
      ],
      "metadata": {
        "id": "smO6bX895jsa",
        "outputId": "a69cade7-611c-41e5-c138-98e5cafce946",
        "colab": {
          "base_uri": "https://localhost:8080/"
        }
      },
      "execution_count": 30,
      "outputs": [
        {
          "output_type": "execute_result",
          "data": {
            "text/plain": [
              "array([[0.08913092],\n",
              "       [0.39253178],\n",
              "       [0.10523727],\n",
              "       [0.10087889],\n",
              "       [0.2404323 ],\n",
              "       [0.08125906],\n",
              "       [0.35556003],\n",
              "       [0.23964064],\n",
              "       [0.22410358],\n",
              "       [0.23196906],\n",
              "       [0.11332425],\n",
              "       [0.5967178 ],\n",
              "       [0.19473313],\n",
              "       [0.12065774],\n",
              "       [0.12233134],\n",
              "       [0.07653566],\n",
              "       [0.08757304],\n",
              "       [0.17038427],\n",
              "       [0.08928955],\n",
              "       [0.11188004],\n",
              "       [0.0907122 ],\n",
              "       [0.19872169],\n",
              "       [0.0893849 ],\n",
              "       [0.1340843 ],\n",
              "       [0.11833425],\n",
              "       [0.17845018],\n",
              "       [0.09737717],\n",
              "       [0.08359529],\n",
              "       [0.13189852],\n",
              "       [0.34109   ],\n",
              "       [0.14539067],\n",
              "       [0.53441805],\n",
              "       [0.17509378],\n",
              "       [0.07134241],\n",
              "       [0.56840533],\n",
              "       [0.07355189],\n",
              "       [0.12019672],\n",
              "       [0.09804784],\n",
              "       [0.11604103],\n",
              "       [0.09302952],\n",
              "       [0.23915821],\n",
              "       [0.1932624 ],\n",
              "       [0.09543785],\n",
              "       [0.08193098],\n",
              "       [0.08195247],\n",
              "       [0.20876051],\n",
              "       [0.23370533],\n",
              "       [0.08403993],\n",
              "       [0.14372489],\n",
              "       [0.29829884],\n",
              "       [0.0504815 ],\n",
              "       [0.16614343],\n",
              "       [0.21945924],\n",
              "       [0.17327434]], dtype=float32)"
            ]
          },
          "metadata": {},
          "execution_count": 30
        }
      ]
    },
    {
      "cell_type": "code",
      "source": [
        "previsoes = (previsoes > 0.5)"
      ],
      "metadata": {
        "id": "VOPBtNmF58LS"
      },
      "execution_count": 31,
      "outputs": []
    },
    {
      "cell_type": "code",
      "source": [
        "previsoes"
      ],
      "metadata": {
        "id": "_OiM72-258Ih",
        "outputId": "8c8ff9a4-f41a-4063-f365-afa27c6ceaed",
        "colab": {
          "base_uri": "https://localhost:8080/"
        }
      },
      "execution_count": 32,
      "outputs": [
        {
          "output_type": "execute_result",
          "data": {
            "text/plain": [
              "array([[False],\n",
              "       [False],\n",
              "       [False],\n",
              "       [False],\n",
              "       [False],\n",
              "       [False],\n",
              "       [False],\n",
              "       [False],\n",
              "       [False],\n",
              "       [False],\n",
              "       [False],\n",
              "       [ True],\n",
              "       [False],\n",
              "       [False],\n",
              "       [False],\n",
              "       [False],\n",
              "       [False],\n",
              "       [False],\n",
              "       [False],\n",
              "       [False],\n",
              "       [False],\n",
              "       [False],\n",
              "       [False],\n",
              "       [False],\n",
              "       [False],\n",
              "       [False],\n",
              "       [False],\n",
              "       [False],\n",
              "       [False],\n",
              "       [False],\n",
              "       [False],\n",
              "       [ True],\n",
              "       [False],\n",
              "       [False],\n",
              "       [ True],\n",
              "       [False],\n",
              "       [False],\n",
              "       [False],\n",
              "       [False],\n",
              "       [False],\n",
              "       [False],\n",
              "       [False],\n",
              "       [False],\n",
              "       [False],\n",
              "       [False],\n",
              "       [False],\n",
              "       [False],\n",
              "       [False],\n",
              "       [False],\n",
              "       [False],\n",
              "       [False],\n",
              "       [False],\n",
              "       [False],\n",
              "       [False]])"
            ]
          },
          "metadata": {},
          "execution_count": 32
        }
      ]
    },
    {
      "cell_type": "code",
      "source": [
        "y_test"
      ],
      "metadata": {
        "id": "8W8nQK4V58Fi",
        "outputId": "c4d00528-29ab-491e-947b-42f8b9204175",
        "colab": {
          "base_uri": "https://localhost:8080/"
        }
      },
      "execution_count": 33,
      "outputs": [
        {
          "output_type": "execute_result",
          "data": {
            "text/plain": [
              "array([0, 1, 0, 0, 0, 1, 0, 0, 0, 0, 0, 1, 1, 0, 1, 1, 1, 1, 0, 0, 0, 1,\n",
              "       0, 0, 0, 1, 0, 0, 1, 1, 1, 1, 1, 1, 1, 1, 0, 0, 0, 0, 1, 1, 0, 0,\n",
              "       0, 1, 1, 0, 0, 1, 0, 1, 1, 1])"
            ]
          },
          "metadata": {},
          "execution_count": 33
        }
      ]
    },
    {
      "cell_type": "code",
      "source": [
        "# 0 = Bart\n",
        "# 1 = Homer\n",
        "print(classification_report(y_test, previsoes))"
      ],
      "metadata": {
        "id": "6KpFzffC58CS",
        "outputId": "2cd7be48-4d8c-4b49-eccc-8f0553116921",
        "colab": {
          "base_uri": "https://localhost:8080/"
        }
      },
      "execution_count": 34,
      "outputs": [
        {
          "output_type": "stream",
          "name": "stdout",
          "text": [
            "              precision    recall  f1-score   support\n",
            "\n",
            "           0       0.55      1.00      0.71        28\n",
            "           1       1.00      0.12      0.21        26\n",
            "\n",
            "    accuracy                           0.57        54\n",
            "   macro avg       0.77      0.56      0.46        54\n",
            "weighted avg       0.77      0.57      0.47        54\n",
            "\n"
          ]
        }
      ]
    },
    {
      "cell_type": "code",
      "source": [
        "cm = confusion_matrix(y_test, previsoes)"
      ],
      "metadata": {
        "id": "PQydQnxg7TDf"
      },
      "execution_count": 35,
      "outputs": []
    },
    {
      "cell_type": "code",
      "source": [
        "sns.heatmap(cm, annot=True);"
      ],
      "metadata": {
        "id": "2-Na4UnQ7S8S",
        "outputId": "0a4bd0b7-93ed-4481-abc5-27d960589290",
        "colab": {
          "base_uri": "https://localhost:8080/",
          "height": 430
        }
      },
      "execution_count": 36,
      "outputs": [
        {
          "output_type": "display_data",
          "data": {
            "text/plain": [
              "<Figure size 640x480 with 2 Axes>"
            ],
            "image/png": "[encoded data removed]"
          },
          "metadata": {}
        }
      ]
    },
    {
      "cell_type": "markdown",
      "metadata": {
        "id": "F9YQmda-vXWK"
      },
      "source": [
        "## Salvar e carregar a rede neural "
      ]
    },
    {
      "cell_type": "code",
      "execution_count": 37,
      "metadata": {
        "id": "TvZbXHZIvXWK"
      },
      "outputs": [],
      "source": [
        "model = network1.to_json()\n",
        "with open('network1.json', 'w') as json_file:\n",
        "    json_file.write(model)"
      ]
    },
    {
      "cell_type": "code",
      "source": [
        "network1_saved = save_model(network1, 'weights1.hdf5')"
      ],
      "metadata": {
        "id": "Eg5jeZfp374z"
      },
      "execution_count": 38,
      "outputs": []
    },
    {
      "cell_type": "code",
      "source": [
        "with open('network1.json') as json:\n",
        "    network1 = json.read()"
      ],
      "metadata": {
        "id": "GeQghZEs4vD8"
      },
      "execution_count": 39,
      "outputs": []
    },
    {
      "cell_type": "code",
      "source": [
        "network1_loaded = tf.keras.models.model_from_json(network1)\n",
        "network1_loaded.load_weights('/content/weights1.hdf5')"
      ],
      "metadata": {
        "id": "VpmAi7PL5aT2"
      },
      "execution_count": 40,
      "outputs": []
    },
    {
      "cell_type": "code",
      "source": [
        "# recompile \n",
        "network1_loaded.compile(loss='binary_crossentropy', optimizer = 'Adam', metrics = ['acurracy'])"
      ],
      "metadata": {
        "id": "Ei8c_cnR5aQ2"
      },
      "execution_count": 41,
      "outputs": []
    },
    {
      "cell_type": "code",
      "source": [
        "network1_loaded.summary()"
      ],
      "metadata": {
        "id": "qbNVinWI9aar",
        "outputId": "2b1e4cd8-b5d0-4642-ecce-45837385ded1",
        "colab": {
          "base_uri": "https://localhost:8080/"
        }
      },
      "execution_count": 42,
      "outputs": [
        {
          "output_type": "stream",
          "name": "stdout",
          "text": [
            "Model: \"sequential\"\n",
            "_________________________________________________________________\n",
            " Layer (type)                Output Shape              Param #   \n",
            "=================================================================\n",
            " dense (Dense)               (None, 8183)              134078455 \n",
            "                                                                 \n",
            " dense_1 (Dense)             (None, 8193)              67051512  \n",
            "                                                                 \n",
            " dense_2 (Dense)             (None, 1)                 8194      \n",
            "                                                                 \n",
            "=================================================================\n",
            "Total params: 201,138,161\n",
            "Trainable params: 201,138,161\n",
            "Non-trainable params: 0\n",
            "_________________________________________________________________\n"
          ]
        }
      ]
    },
    {
      "cell_type": "code",
      "source": [
        "X_test[0], y_test[0]"
      ],
      "metadata": {
        "id": "TzBHvW679rdJ",
        "outputId": "cd805b6e-5b42-4121-88d8-3937e297a270",
        "colab": {
          "base_uri": "https://localhost:8080/"
        }
      },
      "execution_count": 43,
      "outputs": [
        {
          "output_type": "execute_result",
          "data": {
            "text/plain": [
              "(array([1., 1., 1., ..., 1., 1., 1.]), 0)"
            ]
          },
          "metadata": {},
          "execution_count": 43
        }
      ]
    },
    {
      "cell_type": "code",
      "source": [
        "imagem_teste = X_test[0]\n",
        "imagem_teste = scaler.inverse_transform(imagem_teste.reshape(1, -1))"
      ],
      "metadata": {
        "id": "Z4KZfna7KXGq"
      },
      "execution_count": 44,
      "outputs": []
    },
    {
      "cell_type": "code",
      "source": [
        "cv2_imshow(imagem_teste.reshape(128, 128))"
      ],
      "metadata": {
        "id": "BBuNeTI39rZ5",
        "outputId": "05995fe7-59a9-4f5b-cbab-0b78751c8b1c",
        "colab": {
          "base_uri": "https://localhost:8080/",
          "height": 145
        }
      },
      "execution_count": 45,
      "outputs": [
        {
          "output_type": "display_data",
          "data": {
            "text/plain": [
              "<PIL.Image.Image image mode=L size=128x128 at 0x7F2AD5605330>"
            ],
            "image/png": "[encoded data removed]"
          },
          "metadata": {}
        }
      ]
    },
    {
      "cell_type": "markdown",
      "metadata": {
        "id": "QwMd-wj6vXWK"
      },
      "source": [
        "## Prever nova imagem"
      ]
    },
    {
      "cell_type": "code",
      "source": [
        "imagem_teste"
      ],
      "metadata": {
        "id": "1ZDbIZMsLF7d",
        "outputId": "6ba81c0b-f86c-42f8-ef13-1ec9049b330d",
        "colab": {
          "base_uri": "https://localhost:8080/"
        }
      },
      "execution_count": 46,
      "outputs": [
        {
          "output_type": "execute_result",
          "data": {
            "text/plain": [
              "array([[255., 255., 255., ..., 255., 255., 255.]])"
            ]
          },
          "metadata": {},
          "execution_count": 46
        }
      ]
    },
    {
      "cell_type": "code",
      "execution_count": 47,
      "metadata": {
        "id": "M5YGLMJ7vXWK",
        "outputId": "ad77e46f-9e64-4501-8492-5ec2e31b2ec5",
        "colab": {
          "base_uri": "https://localhost:8080/"
        }
      },
      "outputs": [
        {
          "output_type": "stream",
          "name": "stdout",
          "text": [
            "1/1 [==============================] - 0s 75ms/step\n"
          ]
        },
        {
          "output_type": "execute_result",
          "data": {
            "text/plain": [
              "array([[0.]], dtype=float32)"
            ]
          },
          "metadata": {},
          "execution_count": 47
        }
      ],
      "source": [
        "network1_loaded.predict(imagem_teste)"
      ]
    },
    {
      "cell_type": "code",
      "source": [],
      "metadata": {
        "id": "I7m8suOwLAVD"
      },
      "execution_count": 47,
      "outputs": []
    }
  ],
  "metadata": {
    "kernelspec": {
      "display_name": "Python 3",
      "name": "python3"
    },
    "language_info": {
      "codemirror_mode": {
        "name": "ipython",
        "version": 3
      },
      "file_extension": ".py",
      "mimetype": "text/x-python",
      "name": "python",
      "nbconvert_exporter": "python",
      "pygments_lexer": "ipython3",
      "version": "3.10.6"
    },
    "orig_nbformat": 4,
    "colab": {
      "provenance": [],
      "gpuType": "T4",
      "toc_visible": true
    },
    "accelerator": "GPU"
  },
  "nbformat": 4,
  "nbformat_minor": 0
}