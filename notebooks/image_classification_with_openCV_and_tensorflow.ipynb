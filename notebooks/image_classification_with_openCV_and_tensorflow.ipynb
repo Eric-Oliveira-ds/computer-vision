{
  "cells": [
    {
      "cell_type": "markdown",
      "metadata": {
        "id": "84pg9awDvXWA"
      },
      "source": [
        "# Classificação de imagens com openCV e tensorflow\n",
        "- (RNA)"
      ]
    },
    {
      "cell_type": "code",
      "source": [
        "from google.colab import drive\n",
        "drive.mount('/content/drive')"
      ],
      "metadata": {
        "colab": {
          "base_uri": "https://localhost:8080/"
        },
        "id": "8ybgZal7vd74",
        "outputId": "32005e80-e241-4b8b-ceeb-38df75680dc3"
      },
      "execution_count": 1,
      "outputs": [
        {
          "output_type": "stream",
          "name": "stdout",
          "text": [
            "Mounted at /content/drive\n"
          ]
        }
      ]
    },
    {
      "cell_type": "markdown",
      "metadata": {
        "id": "mHRDeLhWvXWC"
      },
      "source": [
        "## Libs"
      ]
    },
    {
      "cell_type": "code",
      "execution_count": 2,
      "metadata": {
        "id": "HdQR-y5JvXWD"
      },
      "outputs": [],
      "source": [
        "import cv2\n",
        "import numpy as np\n",
        "import os \n",
        "import zipfile \n",
        "from matplotlib import pyplot as plt \n",
        "from google.colab.patches import cv2_imshow\n",
        "import pandas as pd \n",
        "import seaborn as sns \n",
        "import tensorflow as tf\n",
        "from sklearn.preprocessing import MinMaxScaler\n",
        "from sklearn.model_selection import train_test_split\n",
        "from sklearn.metrics import classification_report, confusion_matrix\n",
        "from keras.models import save_model"
      ]
    },
    {
      "cell_type": "code",
      "execution_count": 3,
      "metadata": {
        "colab": {
          "base_uri": "https://localhost:8080/",
          "height": 35
        },
        "id": "SDd9YxWavXWD",
        "outputId": "f57d22ec-9fb5-4873-c4c9-7c48fba76ff9"
      },
      "outputs": [
        {
          "output_type": "execute_result",
          "data": {
            "text/plain": [
              "'2.12.0'"
            ],
            "application/vnd.google.colaboratory.intrinsic+json": {
              "type": "string"
            }
          },
          "metadata": {},
          "execution_count": 3
        }
      ],
      "source": [
        "tf.__version__"
      ]
    },
    {
      "cell_type": "markdown",
      "metadata": {
        "id": "8XCC8QWivXWE"
      },
      "source": [
        "## Extração dos dados não estruturados"
      ]
    },
    {
      "cell_type": "code",
      "execution_count": 4,
      "metadata": {
        "id": "lN5kTNwZvXWE"
      },
      "outputs": [],
      "source": [
        "# Extração dos pixels da imagem\n",
        "path = '/content/drive/MyDrive/Computer Vision/Visão Computacional Guia Completo-20230526T132742Z-001/Visão Computacional Guia Completo/Datasets/homer_bart_1.zip'\n",
        "zip_obj = zipfile.ZipFile(path, mode='r')\n",
        "zip_obj.extractall('./')\n",
        "zip_obj.close()"
      ]
    },
    {
      "cell_type": "code",
      "execution_count": 5,
      "metadata": {
        "id": "6-M3605WvXWE"
      },
      "outputs": [],
      "source": [
        "diretorio = '/content/homer_bart_1'\n",
        "\n",
        "arquivos = [os.path.join(diretorio, f) for f in sorted(os.listdir(diretorio))]"
      ]
    },
    {
      "cell_type": "code",
      "source": [
        "arquivos"
      ],
      "metadata": {
        "colab": {
          "base_uri": "https://localhost:8080/"
        },
        "id": "cvFud90nwWmT",
        "outputId": "aa44e8e0-2733-4d2e-8ccb-86ee606ba8c2"
      },
      "execution_count": 6,
      "outputs": [
        {
          "output_type": "execute_result",
          "data": {
            "text/plain": [
              "['/content/homer_bart_1/.DS_Store',\n",
              " '/content/homer_bart_1/bart1.bmp',\n",
              " '/content/homer_bart_1/bart10.bmp',\n",
              " '/content/homer_bart_1/bart100.bmp',\n",
              " '/content/homer_bart_1/bart101.bmp',\n",
              " '/content/homer_bart_1/bart102.bmp',\n",
              " '/content/homer_bart_1/bart103.bmp',\n",
              " '/content/homer_bart_1/bart104.bmp',\n",
              " '/content/homer_bart_1/bart105.bmp',\n",
              " '/content/homer_bart_1/bart106.bmp',\n",
              " '/content/homer_bart_1/bart108.bmp',\n",
              " '/content/homer_bart_1/bart109.bmp',\n",
              " '/content/homer_bart_1/bart11.bmp',\n",
              " '/content/homer_bart_1/bart110.bmp',\n",
              " '/content/homer_bart_1/bart111.bmp',\n",
              " '/content/homer_bart_1/bart112.bmp',\n",
              " '/content/homer_bart_1/bart113.bmp',\n",
              " '/content/homer_bart_1/bart114.bmp',\n",
              " '/content/homer_bart_1/bart115.bmp',\n",
              " '/content/homer_bart_1/bart116.bmp',\n",
              " '/content/homer_bart_1/bart117.bmp',\n",
              " '/content/homer_bart_1/bart118.bmp',\n",
              " '/content/homer_bart_1/bart119.bmp',\n",
              " '/content/homer_bart_1/bart12.bmp',\n",
              " '/content/homer_bart_1/bart120.bmp',\n",
              " '/content/homer_bart_1/bart121.bmp',\n",
              " '/content/homer_bart_1/bart122.bmp',\n",
              " '/content/homer_bart_1/bart123.bmp',\n",
              " '/content/homer_bart_1/bart124.bmp',\n",
              " '/content/homer_bart_1/bart125.bmp',\n",
              " '/content/homer_bart_1/bart126.bmp',\n",
              " '/content/homer_bart_1/bart127.bmp',\n",
              " '/content/homer_bart_1/bart128.bmp',\n",
              " '/content/homer_bart_1/bart13.bmp',\n",
              " '/content/homer_bart_1/bart130.bmp',\n",
              " '/content/homer_bart_1/bart131.bmp',\n",
              " '/content/homer_bart_1/bart132.bmp',\n",
              " '/content/homer_bart_1/bart133.bmp',\n",
              " '/content/homer_bart_1/bart134.bmp',\n",
              " '/content/homer_bart_1/bart135.bmp',\n",
              " '/content/homer_bart_1/bart136.bmp',\n",
              " '/content/homer_bart_1/bart137.bmp',\n",
              " '/content/homer_bart_1/bart138.bmp',\n",
              " '/content/homer_bart_1/bart139.bmp',\n",
              " '/content/homer_bart_1/bart14.bmp',\n",
              " '/content/homer_bart_1/bart141.bmp',\n",
              " '/content/homer_bart_1/bart142.bmp',\n",
              " '/content/homer_bart_1/bart143.bmp',\n",
              " '/content/homer_bart_1/bart144.bmp',\n",
              " '/content/homer_bart_1/bart145.bmp',\n",
              " '/content/homer_bart_1/bart146.bmp',\n",
              " '/content/homer_bart_1/bart147.bmp',\n",
              " '/content/homer_bart_1/bart148.bmp',\n",
              " '/content/homer_bart_1/bart149.bmp',\n",
              " '/content/homer_bart_1/bart15.bmp',\n",
              " '/content/homer_bart_1/bart150.bmp',\n",
              " '/content/homer_bart_1/bart151.bmp',\n",
              " '/content/homer_bart_1/bart153.bmp',\n",
              " '/content/homer_bart_1/bart154.bmp',\n",
              " '/content/homer_bart_1/bart155.bmp',\n",
              " '/content/homer_bart_1/bart156.bmp',\n",
              " '/content/homer_bart_1/bart157.bmp',\n",
              " '/content/homer_bart_1/bart158.bmp',\n",
              " '/content/homer_bart_1/bart159.bmp',\n",
              " '/content/homer_bart_1/bart16.bmp',\n",
              " '/content/homer_bart_1/bart160.bmp',\n",
              " '/content/homer_bart_1/bart161.bmp',\n",
              " '/content/homer_bart_1/bart162.bmp',\n",
              " '/content/homer_bart_1/bart164.bmp',\n",
              " '/content/homer_bart_1/bart165.bmp',\n",
              " '/content/homer_bart_1/bart166.bmp',\n",
              " '/content/homer_bart_1/bart167.bmp',\n",
              " '/content/homer_bart_1/bart168.bmp',\n",
              " '/content/homer_bart_1/bart169.bmp',\n",
              " '/content/homer_bart_1/bart17.bmp',\n",
              " '/content/homer_bart_1/bart18.bmp',\n",
              " '/content/homer_bart_1/bart19.bmp',\n",
              " '/content/homer_bart_1/bart2.bmp',\n",
              " '/content/homer_bart_1/bart20.bmp',\n",
              " '/content/homer_bart_1/bart21.bmp',\n",
              " '/content/homer_bart_1/bart22.bmp',\n",
              " '/content/homer_bart_1/bart23.bmp',\n",
              " '/content/homer_bart_1/bart24.bmp',\n",
              " '/content/homer_bart_1/bart25.bmp',\n",
              " '/content/homer_bart_1/bart26.bmp',\n",
              " '/content/homer_bart_1/bart27.bmp',\n",
              " '/content/homer_bart_1/bart28.bmp',\n",
              " '/content/homer_bart_1/bart29.bmp',\n",
              " '/content/homer_bart_1/bart3.bmp',\n",
              " '/content/homer_bart_1/bart30.bmp',\n",
              " '/content/homer_bart_1/bart31.bmp',\n",
              " '/content/homer_bart_1/bart32.bmp',\n",
              " '/content/homer_bart_1/bart34.bmp',\n",
              " '/content/homer_bart_1/bart35.bmp',\n",
              " '/content/homer_bart_1/bart36.bmp',\n",
              " '/content/homer_bart_1/bart37.bmp',\n",
              " '/content/homer_bart_1/bart38.bmp',\n",
              " '/content/homer_bart_1/bart39.bmp',\n",
              " '/content/homer_bart_1/bart4.bmp',\n",
              " '/content/homer_bart_1/bart40.bmp',\n",
              " '/content/homer_bart_1/bart42.bmp',\n",
              " '/content/homer_bart_1/bart43.bmp',\n",
              " '/content/homer_bart_1/bart44.bmp',\n",
              " '/content/homer_bart_1/bart45.bmp',\n",
              " '/content/homer_bart_1/bart46.bmp',\n",
              " '/content/homer_bart_1/bart47.bmp',\n",
              " '/content/homer_bart_1/bart48.bmp',\n",
              " '/content/homer_bart_1/bart49.bmp',\n",
              " '/content/homer_bart_1/bart5.bmp',\n",
              " '/content/homer_bart_1/bart50.bmp',\n",
              " '/content/homer_bart_1/bart51.bmp',\n",
              " '/content/homer_bart_1/bart52.bmp',\n",
              " '/content/homer_bart_1/bart53.bmp',\n",
              " '/content/homer_bart_1/bart54.bmp',\n",
              " '/content/homer_bart_1/bart55.bmp',\n",
              " '/content/homer_bart_1/bart56.bmp',\n",
              " '/content/homer_bart_1/bart57.bmp',\n",
              " '/content/homer_bart_1/bart58.bmp',\n",
              " '/content/homer_bart_1/bart59.bmp',\n",
              " '/content/homer_bart_1/bart6.bmp',\n",
              " '/content/homer_bart_1/bart60.bmp',\n",
              " '/content/homer_bart_1/bart61.bmp',\n",
              " '/content/homer_bart_1/bart62.bmp',\n",
              " '/content/homer_bart_1/bart63.bmp',\n",
              " '/content/homer_bart_1/bart64.bmp',\n",
              " '/content/homer_bart_1/bart65.bmp',\n",
              " '/content/homer_bart_1/bart66.bmp',\n",
              " '/content/homer_bart_1/bart67.bmp',\n",
              " '/content/homer_bart_1/bart68.bmp',\n",
              " '/content/homer_bart_1/bart69.bmp',\n",
              " '/content/homer_bart_1/bart7.bmp',\n",
              " '/content/homer_bart_1/bart70.bmp',\n",
              " '/content/homer_bart_1/bart71.bmp',\n",
              " '/content/homer_bart_1/bart72.bmp',\n",
              " '/content/homer_bart_1/bart73.bmp',\n",
              " '/content/homer_bart_1/bart74.bmp',\n",
              " '/content/homer_bart_1/bart75.bmp',\n",
              " '/content/homer_bart_1/bart76.bmp',\n",
              " '/content/homer_bart_1/bart77.bmp',\n",
              " '/content/homer_bart_1/bart79.bmp',\n",
              " '/content/homer_bart_1/bart8.bmp',\n",
              " '/content/homer_bart_1/bart80.bmp',\n",
              " '/content/homer_bart_1/bart81.bmp',\n",
              " '/content/homer_bart_1/bart82.bmp',\n",
              " '/content/homer_bart_1/bart83.bmp',\n",
              " '/content/homer_bart_1/bart84.bmp',\n",
              " '/content/homer_bart_1/bart85.bmp',\n",
              " '/content/homer_bart_1/bart86.bmp',\n",
              " '/content/homer_bart_1/bart87.bmp',\n",
              " '/content/homer_bart_1/bart89.bmp',\n",
              " '/content/homer_bart_1/bart9.bmp',\n",
              " '/content/homer_bart_1/bart90.bmp',\n",
              " '/content/homer_bart_1/bart91.bmp',\n",
              " '/content/homer_bart_1/bart92.bmp',\n",
              " '/content/homer_bart_1/bart93.bmp',\n",
              " '/content/homer_bart_1/bart94.bmp',\n",
              " '/content/homer_bart_1/bart95.bmp',\n",
              " '/content/homer_bart_1/bart96.bmp',\n",
              " '/content/homer_bart_1/bart97.bmp',\n",
              " '/content/homer_bart_1/bart98.bmp',\n",
              " '/content/homer_bart_1/bart99.bmp',\n",
              " '/content/homer_bart_1/homer1.bmp',\n",
              " '/content/homer_bart_1/homer10.bmp',\n",
              " '/content/homer_bart_1/homer100.bmp',\n",
              " '/content/homer_bart_1/homer101.bmp',\n",
              " '/content/homer_bart_1/homer102.bmp',\n",
              " '/content/homer_bart_1/homer103.bmp',\n",
              " '/content/homer_bart_1/homer104.bmp',\n",
              " '/content/homer_bart_1/homer105.bmp',\n",
              " '/content/homer_bart_1/homer106.bmp',\n",
              " '/content/homer_bart_1/homer107.bmp',\n",
              " '/content/homer_bart_1/homer109.bmp',\n",
              " '/content/homer_bart_1/homer110.bmp',\n",
              " '/content/homer_bart_1/homer112.bmp',\n",
              " '/content/homer_bart_1/homer113.bmp',\n",
              " '/content/homer_bart_1/homer115.bmp',\n",
              " '/content/homer_bart_1/homer116.bmp',\n",
              " '/content/homer_bart_1/homer117.bmp',\n",
              " '/content/homer_bart_1/homer119.bmp',\n",
              " '/content/homer_bart_1/homer120.bmp',\n",
              " '/content/homer_bart_1/homer121.bmp',\n",
              " '/content/homer_bart_1/homer122.bmp',\n",
              " '/content/homer_bart_1/homer123.bmp',\n",
              " '/content/homer_bart_1/homer124.bmp',\n",
              " '/content/homer_bart_1/homer13.bmp',\n",
              " '/content/homer_bart_1/homer14.bmp',\n",
              " '/content/homer_bart_1/homer15.bmp',\n",
              " '/content/homer_bart_1/homer16.bmp',\n",
              " '/content/homer_bart_1/homer17.bmp',\n",
              " '/content/homer_bart_1/homer18.bmp',\n",
              " '/content/homer_bart_1/homer2.bmp',\n",
              " '/content/homer_bart_1/homer20.bmp',\n",
              " '/content/homer_bart_1/homer21.bmp',\n",
              " '/content/homer_bart_1/homer22.bmp',\n",
              " '/content/homer_bart_1/homer23.bmp',\n",
              " '/content/homer_bart_1/homer24.bmp',\n",
              " '/content/homer_bart_1/homer26.bmp',\n",
              " '/content/homer_bart_1/homer27.bmp',\n",
              " '/content/homer_bart_1/homer28.bmp',\n",
              " '/content/homer_bart_1/homer29.bmp',\n",
              " '/content/homer_bart_1/homer3.bmp',\n",
              " '/content/homer_bart_1/homer30.bmp',\n",
              " '/content/homer_bart_1/homer31.bmp',\n",
              " '/content/homer_bart_1/homer32.bmp',\n",
              " '/content/homer_bart_1/homer33.bmp',\n",
              " '/content/homer_bart_1/homer34.bmp',\n",
              " '/content/homer_bart_1/homer35.bmp',\n",
              " '/content/homer_bart_1/homer36.bmp',\n",
              " '/content/homer_bart_1/homer37.bmp',\n",
              " '/content/homer_bart_1/homer38.bmp',\n",
              " '/content/homer_bart_1/homer4.bmp',\n",
              " '/content/homer_bart_1/homer40.bmp',\n",
              " '/content/homer_bart_1/homer41.bmp',\n",
              " '/content/homer_bart_1/homer43.bmp',\n",
              " '/content/homer_bart_1/homer44.bmp',\n",
              " '/content/homer_bart_1/homer45.bmp',\n",
              " '/content/homer_bart_1/homer46.bmp',\n",
              " '/content/homer_bart_1/homer47.bmp',\n",
              " '/content/homer_bart_1/homer48.bmp',\n",
              " '/content/homer_bart_1/homer49.bmp',\n",
              " '/content/homer_bart_1/homer5.bmp',\n",
              " '/content/homer_bart_1/homer50.bmp',\n",
              " '/content/homer_bart_1/homer51.bmp',\n",
              " '/content/homer_bart_1/homer52.bmp',\n",
              " '/content/homer_bart_1/homer54.bmp',\n",
              " '/content/homer_bart_1/homer55.bmp',\n",
              " '/content/homer_bart_1/homer56.bmp',\n",
              " '/content/homer_bart_1/homer57.bmp',\n",
              " '/content/homer_bart_1/homer58.bmp',\n",
              " '/content/homer_bart_1/homer59.bmp',\n",
              " '/content/homer_bart_1/homer6.bmp',\n",
              " '/content/homer_bart_1/homer60.bmp',\n",
              " '/content/homer_bart_1/homer61.bmp',\n",
              " '/content/homer_bart_1/homer62.bmp',\n",
              " '/content/homer_bart_1/homer63.bmp',\n",
              " '/content/homer_bart_1/homer65.bmp',\n",
              " '/content/homer_bart_1/homer66.bmp',\n",
              " '/content/homer_bart_1/homer68.bmp',\n",
              " '/content/homer_bart_1/homer69.bmp',\n",
              " '/content/homer_bart_1/homer7.bmp',\n",
              " '/content/homer_bart_1/homer70.bmp',\n",
              " '/content/homer_bart_1/homer71.bmp',\n",
              " '/content/homer_bart_1/homer72.bmp',\n",
              " '/content/homer_bart_1/homer73.bmp',\n",
              " '/content/homer_bart_1/homer74.bmp',\n",
              " '/content/homer_bart_1/homer75.bmp',\n",
              " '/content/homer_bart_1/homer76.bmp',\n",
              " '/content/homer_bart_1/homer77.bmp',\n",
              " '/content/homer_bart_1/homer78.bmp',\n",
              " '/content/homer_bart_1/homer79.bmp',\n",
              " '/content/homer_bart_1/homer8.bmp',\n",
              " '/content/homer_bart_1/homer80.bmp',\n",
              " '/content/homer_bart_1/homer81.bmp',\n",
              " '/content/homer_bart_1/homer82.bmp',\n",
              " '/content/homer_bart_1/homer83.bmp',\n",
              " '/content/homer_bart_1/homer84.bmp',\n",
              " '/content/homer_bart_1/homer85.bmp',\n",
              " '/content/homer_bart_1/homer86.bmp',\n",
              " '/content/homer_bart_1/homer87.bmp',\n",
              " '/content/homer_bart_1/homer9.bmp',\n",
              " '/content/homer_bart_1/homer90.bmp',\n",
              " '/content/homer_bart_1/homer91.bmp',\n",
              " '/content/homer_bart_1/homer92.bmp',\n",
              " '/content/homer_bart_1/homer93.bmp',\n",
              " '/content/homer_bart_1/homer94.bmp',\n",
              " '/content/homer_bart_1/homer95.bmp',\n",
              " '/content/homer_bart_1/homer96.bmp',\n",
              " '/content/homer_bart_1/homer97.bmp',\n",
              " '/content/homer_bart_1/homer98.bmp',\n",
              " '/content/homer_bart_1/homer99.bmp']"
            ]
          },
          "metadata": {},
          "execution_count": 6
        }
      ]
    },
    {
      "cell_type": "markdown",
      "metadata": {
        "id": "xrNVokWKvXWF"
      },
      "source": [
        "## Pré-processamento"
      ]
    },
    {
      "cell_type": "code",
      "execution_count": 7,
      "metadata": {
        "id": "MEG9nTIuvXWF"
      },
      "outputs": [],
      "source": [
        "# tratamento de imagens \n",
        "largura = 128\n",
        "altura = 128"
      ]
    },
    {
      "cell_type": "code",
      "execution_count": 8,
      "metadata": {
        "id": "s3g42pStvXWG"
      },
      "outputs": [],
      "source": [
        "# pixels da imagem\n",
        "imagens = []\n",
        "# classes homer e bart\n",
        "classes = []"
      ]
    },
    {
      "cell_type": "code",
      "execution_count": 9,
      "metadata": {
        "id": "6yRJOjN7vXWG"
      },
      "outputs": [],
      "source": [
        "for imagem_caminho in arquivos:\n",
        "    #print(imagem_caminho)\n",
        "    try:\n",
        "\n",
        "        imagem = cv2.imread(imagem_caminho)\n",
        "        # altura e largura\n",
        "        (h, w) = imagem.shape[:2]\n",
        "    except:\n",
        "        continue\n",
        "\n",
        "    imagem = cv2.resize(imagem, (largura, altura))\n",
        "    imagem = cv2.cvtColor(imagem , cv2.COLOR_BGR2GRAY)\n",
        "    #plt.imshow(imagem)\n",
        "    #plt.show()\n",
        "\n",
        "    # converter de matriz para vetor\n",
        "    imagem =  imagem.ravel()\n",
        "    #print(imagem.shape)\n",
        "    # add na lista de imagens\n",
        "    imagens.append(imagem)\n",
        "    # add classes\n",
        "    nome_imagem = os.path.basename(os.path.normpath(imagem_caminho))\n",
        "    #print(nome_imagem)\n",
        "    if nome_imagem.startswith('b'):\n",
        "        classe = 0\n",
        "    else:\n",
        "        classe = 1\n",
        "    classes.append(classe)\n",
        "    #print(classe)\n"
      ]
    },
    {
      "cell_type": "code",
      "execution_count": 10,
      "metadata": {
        "colab": {
          "base_uri": "https://localhost:8080/"
        },
        "id": "n2OKWdYCvXWG",
        "outputId": "8eb10d60-b842-4c74-b355-f6834177f463"
      },
      "outputs": [
        {
          "output_type": "execute_result",
          "data": {
            "text/plain": [
              "(array([255, 255, 255, ..., 255, 255, 255], dtype=uint8), 0)"
            ]
          },
          "metadata": {},
          "execution_count": 10
        }
      ],
      "source": [
        "# exemplo bart\n",
        "imagens[0], classes[0]"
      ]
    },
    {
      "cell_type": "code",
      "execution_count": 11,
      "metadata": {
        "colab": {
          "base_uri": "https://localhost:8080/"
        },
        "id": "S8Sewj-1vXWG",
        "outputId": "161a5f2b-700f-4a97-dd1d-6cd445448b65"
      },
      "outputs": [
        {
          "output_type": "execute_result",
          "data": {
            "text/plain": [
              "(array([255, 255, 255, ..., 255, 255, 255], dtype=uint8), 1)"
            ]
          },
          "metadata": {},
          "execution_count": 11
        }
      ],
      "source": [
        "# exemplo homer\n",
        "imagens[200], classes[200]"
      ]
    },
    {
      "cell_type": "markdown",
      "metadata": {
        "id": "xsuBUjwavXWH"
      },
      "source": [
        "## Split inicial"
      ]
    },
    {
      "cell_type": "code",
      "execution_count": 12,
      "metadata": {
        "id": "DqMjTgqsvXWH"
      },
      "outputs": [],
      "source": [
        "X = np.asarray(imagens)\n",
        "y = np.asarray(classes)"
      ]
    },
    {
      "cell_type": "code",
      "execution_count": 13,
      "metadata": {
        "colab": {
          "base_uri": "https://localhost:8080/"
        },
        "id": "eeQwNZ-avXWH",
        "outputId": "189c1523-1c3a-4b3d-9f03-4616ebfff337"
      },
      "outputs": [
        {
          "output_type": "execute_result",
          "data": {
            "text/plain": [
              "(269, 16384)"
            ]
          },
          "metadata": {},
          "execution_count": 13
        }
      ],
      "source": [
        "X.shape"
      ]
    },
    {
      "cell_type": "code",
      "execution_count": 14,
      "metadata": {
        "colab": {
          "base_uri": "https://localhost:8080/"
        },
        "id": "Ud2dY2rNvXWH",
        "outputId": "d0f83e20-d27d-4403-a0ab-cb2c65c03887"
      },
      "outputs": [
        {
          "output_type": "execute_result",
          "data": {
            "text/plain": [
              "(269,)"
            ]
          },
          "metadata": {},
          "execution_count": 14
        }
      ],
      "source": [
        "y.shape"
      ]
    },
    {
      "cell_type": "code",
      "execution_count": 15,
      "metadata": {
        "colab": {
          "base_uri": "https://localhost:8080/"
        },
        "id": "0Uw9U_UvvXWH",
        "outputId": "f0a279aa-3c45-4124-cc17-55b40e571677"
      },
      "outputs": [
        {
          "output_type": "execute_result",
          "data": {
            "text/plain": [
              "(array([0, 1]), array([160, 109]))"
            ]
          },
          "metadata": {},
          "execution_count": 15
        }
      ],
      "source": [
        "np.unique(y, return_counts=True)"
      ]
    },
    {
      "cell_type": "markdown",
      "metadata": {
        "id": "XEnG_9FmvXWI"
      },
      "source": [
        "## Normalização dos dados"
      ]
    },
    {
      "cell_type": "code",
      "execution_count": 16,
      "metadata": {
        "id": "dA0QN7U1vXWI"
      },
      "outputs": [],
      "source": [
        "scaler = MinMaxScaler()"
      ]
    },
    {
      "cell_type": "code",
      "execution_count": 17,
      "metadata": {
        "id": "quF6nFBmvXWI"
      },
      "outputs": [],
      "source": [
        "scaler.fit(X)\n",
        "X = scaler.transform(X)"
      ]
    },
    {
      "cell_type": "markdown",
      "metadata": {
        "id": "vj3rKwgYvXWI"
      },
      "source": [
        "## Divisão treino e teste"
      ]
    },
    {
      "cell_type": "code",
      "execution_count": 18,
      "metadata": {
        "colab": {
          "base_uri": "https://localhost:8080/"
        },
        "id": "lPJkXR62vXWI",
        "outputId": "8fa2c678-5efb-4ae7-d020-bda6eec94ed8"
      },
      "outputs": [
        {
          "output_type": "execute_result",
          "data": {
            "text/plain": [
              "((269, 16384), (269,))"
            ]
          },
          "metadata": {},
          "execution_count": 18
        }
      ],
      "source": [
        "X.shape , y.shape"
      ]
    },
    {
      "cell_type": "code",
      "execution_count": 19,
      "metadata": {
        "id": "C0MzzpWAvXWI"
      },
      "outputs": [],
      "source": [
        "X_train, X_test, y_train, y_test = train_test_split(X, y, test_size=0.2, random_state=1)"
      ]
    },
    {
      "cell_type": "code",
      "execution_count": 20,
      "metadata": {
        "colab": {
          "base_uri": "https://localhost:8080/"
        },
        "id": "D-J8LKKRvXWI",
        "outputId": "43c905ac-9327-4115-ceb9-953fd8b75744"
      },
      "outputs": [
        {
          "output_type": "execute_result",
          "data": {
            "text/plain": [
              "((215, 16384), (215,), (54, 16384), (54,))"
            ]
          },
          "metadata": {},
          "execution_count": 20
        }
      ],
      "source": [
        "X_train.shape, y_train.shape, X_test.shape, y_test.shape"
      ]
    },
    {
      "cell_type": "markdown",
      "metadata": {
        "id": "UY5TReAdvXWJ"
      },
      "source": [
        "## Modelagem\n",
        "\n",
        "    - Construção da rede neural"
      ]
    },
    {
      "cell_type": "code",
      "execution_count": 21,
      "metadata": {
        "colab": {
          "base_uri": "https://localhost:8080/"
        },
        "id": "vKfzuWjgvXWJ",
        "outputId": "f79dec46-6612-4564-d65f-e654e4e3639a"
      },
      "outputs": [
        {
          "output_type": "execute_result",
          "data": {
            "text/plain": [
              "8193.0"
            ]
          },
          "metadata": {},
          "execution_count": 21
        }
      ],
      "source": [
        "# neurônios\n",
        "(16384 + 2 ) / 2"
      ]
    },
    {
      "cell_type": "code",
      "execution_count": 22,
      "metadata": {
        "id": "WnNnuAxJvXWJ"
      },
      "outputs": [],
      "source": [
        "network1 = tf.keras.models.Sequential()\n",
        "# camadas\n",
        "network1.add(tf.keras.layers.Dense(input_shape = (16384,), units=8183, activation='relu') )\n",
        "# camada oculta\n",
        "network1.add(tf.keras.layers.Dense(units=8193, activation='relu'))\n",
        "# camada saída\n",
        "network1.add(tf.keras.layers.Dense(units=1, activation='sigmoid'))"
      ]
    },
    {
      "cell_type": "code",
      "execution_count": 23,
      "metadata": {
        "colab": {
          "base_uri": "https://localhost:8080/"
        },
        "id": "aV9hBQXpvXWJ",
        "outputId": "8eab37b6-b1f4-4eb3-da5d-c5b287262fb9"
      },
      "outputs": [
        {
          "output_type": "stream",
          "name": "stdout",
          "text": [
            "Model: \"sequential\"\n",
            "_________________________________________________________________\n",
            " Layer (type)                Output Shape              Param #   \n",
            "=================================================================\n",
            " dense (Dense)               (None, 8183)              134078455 \n",
            "                                                                 \n",
            " dense_1 (Dense)             (None, 8193)              67051512  \n",
            "                                                                 \n",
            " dense_2 (Dense)             (None, 1)                 8194      \n",
            "                                                                 \n",
            "=================================================================\n",
            "Total params: 201,138,161\n",
            "Trainable params: 201,138,161\n",
            "Non-trainable params: 0\n",
            "_________________________________________________________________\n"
          ]
        }
      ],
      "source": [
        "# estrurura da rede\n",
        "network1.summary()"
      ]
    },
    {
      "cell_type": "code",
      "execution_count": 24,
      "metadata": {
        "id": "cICouVbkvXWJ"
      },
      "outputs": [],
      "source": [
        "# treinamento\n",
        "network1.compile(optimizer='Adam', loss='binary_crossentropy', metrics=['accuracy'])"
      ]
    },
    {
      "cell_type": "code",
      "execution_count": 25,
      "metadata": {
        "colab": {
          "base_uri": "https://localhost:8080/"
        },
        "id": "J96FgcPrvXWK",
        "outputId": "b4b609d3-97f6-4ec4-e69f-7db47c9fc05e"
      },
      "outputs": [
        {
          "output_type": "stream",
          "name": "stdout",
          "text": [
            "Epoch 1/40\n",
            "7/7 [==============================] - 6s 47ms/step - loss: 120.9536 - accuracy: 0.4744\n",
            "Epoch 2/40\n",
            "7/7 [==============================] - 0s 44ms/step - loss: 43.3583 - accuracy: 0.5488\n",
            "Epoch 3/40\n",
            "7/7 [==============================] - 0s 43ms/step - loss: 38.3437 - accuracy: 0.5023\n",
            "Epoch 4/40\n",
            "7/7 [==============================] - 0s 43ms/step - loss: 18.9356 - accuracy: 0.5256\n",
            "Epoch 5/40\n",
            "7/7 [==============================] - 0s 43ms/step - loss: 1.2231 - accuracy: 0.5860\n",
            "Epoch 6/40\n",
            "7/7 [==============================] - 0s 43ms/step - loss: 0.7540 - accuracy: 0.5395\n",
            "Epoch 7/40\n",
            "7/7 [==============================] - 0s 43ms/step - loss: 0.6353 - accuracy: 0.6791\n",
            "Epoch 8/40\n",
            "7/7 [==============================] - 0s 44ms/step - loss: 0.6519 - accuracy: 0.5907\n",
            "Epoch 9/40\n",
            "7/7 [==============================] - 0s 43ms/step - loss: 0.6476 - accuracy: 0.6233\n",
            "Epoch 10/40\n",
            "7/7 [==============================] - 0s 43ms/step - loss: 0.5982 - accuracy: 0.6651\n",
            "Epoch 11/40\n",
            "7/7 [==============================] - 0s 44ms/step - loss: 0.6079 - accuracy: 0.6372\n",
            "Epoch 12/40\n",
            "7/7 [==============================] - 0s 43ms/step - loss: 0.5803 - accuracy: 0.7023\n",
            "Epoch 13/40\n",
            "7/7 [==============================] - 0s 43ms/step - loss: 0.5374 - accuracy: 0.7581\n",
            "Epoch 14/40\n",
            "7/7 [==============================] - 0s 44ms/step - loss: 0.4861 - accuracy: 0.7628\n",
            "Epoch 15/40\n",
            "7/7 [==============================] - 0s 43ms/step - loss: 0.7577 - accuracy: 0.6279\n",
            "Epoch 16/40\n",
            "7/7 [==============================] - 0s 43ms/step - loss: 0.5695 - accuracy: 0.7349\n",
            "Epoch 17/40\n",
            "7/7 [==============================] - 0s 42ms/step - loss: 0.4735 - accuracy: 0.8047\n",
            "Epoch 18/40\n",
            "7/7 [==============================] - 0s 43ms/step - loss: 0.4067 - accuracy: 0.7953\n",
            "Epoch 19/40\n",
            "7/7 [==============================] - 0s 42ms/step - loss: 0.3736 - accuracy: 0.8186\n",
            "Epoch 20/40\n",
            "7/7 [==============================] - 0s 42ms/step - loss: 0.9235 - accuracy: 0.6884\n",
            "Epoch 21/40\n",
            "7/7 [==============================] - 0s 43ms/step - loss: 0.7586 - accuracy: 0.6093\n",
            "Epoch 22/40\n",
            "7/7 [==============================] - 0s 43ms/step - loss: 0.5937 - accuracy: 0.6698\n",
            "Epoch 23/40\n",
            "7/7 [==============================] - 0s 43ms/step - loss: 0.5564 - accuracy: 0.7163\n",
            "Epoch 24/40\n",
            "7/7 [==============================] - 0s 43ms/step - loss: 0.3970 - accuracy: 0.8605\n",
            "Epoch 25/40\n",
            "7/7 [==============================] - 0s 43ms/step - loss: 0.3863 - accuracy: 0.7907\n",
            "Epoch 26/40\n",
            "7/7 [==============================] - 0s 43ms/step - loss: 0.5529 - accuracy: 0.7023\n",
            "Epoch 27/40\n",
            "7/7 [==============================] - 0s 43ms/step - loss: 0.4792 - accuracy: 0.7581\n",
            "Epoch 28/40\n",
            "7/7 [==============================] - 0s 44ms/step - loss: 0.4270 - accuracy: 0.7721\n",
            "Epoch 29/40\n",
            "7/7 [==============================] - 0s 44ms/step - loss: 0.3783 - accuracy: 0.8326\n",
            "Epoch 30/40\n",
            "7/7 [==============================] - 0s 44ms/step - loss: 0.2916 - accuracy: 0.8884\n",
            "Epoch 31/40\n",
            "7/7 [==============================] - 0s 46ms/step - loss: 0.2518 - accuracy: 0.9302\n",
            "Epoch 32/40\n",
            "7/7 [==============================] - 0s 45ms/step - loss: 0.1859 - accuracy: 0.9349\n",
            "Epoch 33/40\n",
            "7/7 [==============================] - 0s 45ms/step - loss: 0.1710 - accuracy: 0.9488\n",
            "Epoch 34/40\n",
            "7/7 [==============================] - 0s 46ms/step - loss: 0.1230 - accuracy: 0.9767\n",
            "Epoch 35/40\n",
            "7/7 [==============================] - 0s 45ms/step - loss: 0.1134 - accuracy: 0.9581\n",
            "Epoch 36/40\n",
            "7/7 [==============================] - 0s 45ms/step - loss: 0.0693 - accuracy: 0.9907\n",
            "Epoch 37/40\n",
            "7/7 [==============================] - 0s 45ms/step - loss: 0.0842 - accuracy: 0.9721\n",
            "Epoch 38/40\n",
            "7/7 [==============================] - 0s 45ms/step - loss: 0.0434 - accuracy: 1.0000\n",
            "Epoch 39/40\n",
            "7/7 [==============================] - 0s 44ms/step - loss: 0.0617 - accuracy: 0.9860\n",
            "Epoch 40/40\n",
            "7/7 [==============================] - 0s 46ms/step - loss: 0.0386 - accuracy: 1.0000\n"
          ]
        }
      ],
      "source": [
        "# histórico\n",
        "historico = network1.fit(X_train, y_train, epochs=40)"
      ]
    },
    {
      "cell_type": "markdown",
      "metadata": {
        "id": "QQY1EiJIvXWK"
      },
      "source": [
        "## Avaliação na base de treino"
      ]
    },
    {
      "cell_type": "code",
      "execution_count": 26,
      "metadata": {
        "colab": {
          "base_uri": "https://localhost:8080/"
        },
        "id": "BjDt4e3XvXWK",
        "outputId": "3ab86182-137a-4d2f-d877-b440e7b966f5"
      },
      "outputs": [
        {
          "output_type": "execute_result",
          "data": {
            "text/plain": [
              "dict_keys(['loss', 'accuracy'])"
            ]
          },
          "metadata": {},
          "execution_count": 26
        }
      ],
      "source": [
        "historico.history.keys()"
      ]
    },
    {
      "cell_type": "code",
      "source": [
        "plt.plot(historico.history['loss'], label='Loss')\n",
        "plt.xlabel('Época')\n",
        "plt.ylabel('Valor')\n",
        "plt.title('Curvas de Loss')\n",
        "plt.legend()\n",
        "plt.show()"
      ],
      "metadata": {
        "colab": {
          "base_uri": "https://localhost:8080/",
          "height": 474
        },
        "id": "HcMuCJrz3Gsq",
        "outputId": "6468f424-1a19-47bd-8df6-67f6c25e7bd5"
      },
      "execution_count": 27,
      "outputs": [
        {
          "output_type": "display_data",
          "data": {
            "text/plain": [
              "<Figure size 640x480 with 1 Axes>"
            ],
            "image/png": "[encoded data removed]"
          },
          "metadata": {}
        }
      ]
    },
    {
      "cell_type": "code",
      "source": [
        "plt.plot(historico.history['accuracy'], label='Accuracy')\n",
        "plt.xlabel('Época')\n",
        "plt.ylabel('Valor')\n",
        "plt.title('Acurácia')\n",
        "plt.legend()\n",
        "plt.show()"
      ],
      "metadata": {
        "colab": {
          "base_uri": "https://localhost:8080/",
          "height": 474
        },
        "id": "JrZVHuXu3Gpq",
        "outputId": "d4a70aba-546a-493c-fb4e-bde464242a0c"
      },
      "execution_count": 28,
      "outputs": [
        {
          "output_type": "display_data",
          "data": {
            "text/plain": [
              "<Figure size 640x480 with 1 Axes>"
            ],
            "image/png": "[encoded data removed]"
          },
          "metadata": {}
        }
      ]
    },
    {
      "cell_type": "markdown",
      "source": [
        "## Teste"
      ],
      "metadata": {
        "id": "_eX5VYBb5hOa"
      }
    },
    {
      "cell_type": "code",
      "source": [
        "previsoes = network1.predict(X_test)"
      ],
      "metadata": {
        "id": "IUmPRzXI5jvq",
        "outputId": "5a96f797-3062-4abc-a2e4-a80926759da3",
        "colab": {
          "base_uri": "https://localhost:8080/"
        }
      },
      "execution_count": 29,
      "outputs": [
        {
          "output_type": "stream",
          "name": "stdout",
          "text": [
            "2/2 [==============================] - 0s 6ms/step\n"
          ]
        }
      ]
    },
    {
      "cell_type": "code",
      "source": [
        "previsoes"
      ],
      "metadata": {
        "id": "smO6bX895jsa",
        "outputId": "8fa7c48c-bc54-4877-e1a8-f2cfc61bebf8",
        "colab": {
          "base_uri": "https://localhost:8080/"
        }
      },
      "execution_count": 30,
      "outputs": [
        {
          "output_type": "execute_result",
          "data": {
            "text/plain": [
              "array([[0.16662173],\n",
              "       [0.9997358 ],\n",
              "       [0.18255708],\n",
              "       [0.76056474],\n",
              "       [0.98220956],\n",
              "       [0.38858044],\n",
              "       [0.9994282 ],\n",
              "       [0.9920989 ],\n",
              "       [0.9625177 ],\n",
              "       [0.992334  ],\n",
              "       [0.56289047],\n",
              "       [0.99998987],\n",
              "       [0.9901663 ],\n",
              "       [0.98230547],\n",
              "       [0.7849881 ],\n",
              "       [0.42586783],\n",
              "       [0.84604245],\n",
              "       [0.9911515 ],\n",
              "       [0.43079016],\n",
              "       [0.10858477],\n",
              "       [0.05838564],\n",
              "       [0.9855843 ],\n",
              "       [0.20636767],\n",
              "       [0.7648727 ],\n",
              "       [0.6145659 ],\n",
              "       [0.99076056],\n",
              "       [0.2523758 ],\n",
              "       [0.19791031],\n",
              "       [0.89417213],\n",
              "       [0.99776804],\n",
              "       [0.9608015 ],\n",
              "       [0.9998857 ],\n",
              "       [0.9852601 ],\n",
              "       [0.08291751],\n",
              "       [0.99996006],\n",
              "       [0.34299207],\n",
              "       [0.95630795],\n",
              "       [0.20048392],\n",
              "       [0.87453955],\n",
              "       [0.22402751],\n",
              "       [0.99862754],\n",
              "       [0.99703217],\n",
              "       [0.52811307],\n",
              "       [0.3854509 ],\n",
              "       [0.48524097],\n",
              "       [0.87852895],\n",
              "       [0.99751174],\n",
              "       [0.3474368 ],\n",
              "       [0.7568272 ],\n",
              "       [0.9976997 ],\n",
              "       [0.07380457],\n",
              "       [0.9919886 ],\n",
              "       [0.99122685],\n",
              "       [0.96028244]], dtype=float32)"
            ]
          },
          "metadata": {},
          "execution_count": 30
        }
      ]
    },
    {
      "cell_type": "code",
      "source": [
        "previsoes = (previsoes > 0.5)"
      ],
      "metadata": {
        "id": "VOPBtNmF58LS"
      },
      "execution_count": 31,
      "outputs": []
    },
    {
      "cell_type": "code",
      "source": [
        "previsoes"
      ],
      "metadata": {
        "id": "_OiM72-258Ih",
        "outputId": "00133809-dbda-44fc-fe0c-777fec1391f0",
        "colab": {
          "base_uri": "https://localhost:8080/"
        }
      },
      "execution_count": 32,
      "outputs": [
        {
          "output_type": "execute_result",
          "data": {
            "text/plain": [
              "array([[False],\n",
              "       [ True],\n",
              "       [False],\n",
              "       [ True],\n",
              "       [ True],\n",
              "       [False],\n",
              "       [ True],\n",
              "       [ True],\n",
              "       [ True],\n",
              "       [ True],\n",
              "       [ True],\n",
              "       [ True],\n",
              "       [ True],\n",
              "       [ True],\n",
              "       [ True],\n",
              "       [False],\n",
              "       [ True],\n",
              "       [ True],\n",
              "       [False],\n",
              "       [False],\n",
              "       [False],\n",
              "       [ True],\n",
              "       [False],\n",
              "       [ True],\n",
              "       [ True],\n",
              "       [ True],\n",
              "       [False],\n",
              "       [False],\n",
              "       [ True],\n",
              "       [ True],\n",
              "       [ True],\n",
              "       [ True],\n",
              "       [ True],\n",
              "       [False],\n",
              "       [ True],\n",
              "       [False],\n",
              "       [ True],\n",
              "       [False],\n",
              "       [ True],\n",
              "       [False],\n",
              "       [ True],\n",
              "       [ True],\n",
              "       [ True],\n",
              "       [False],\n",
              "       [False],\n",
              "       [ True],\n",
              "       [ True],\n",
              "       [False],\n",
              "       [ True],\n",
              "       [ True],\n",
              "       [False],\n",
              "       [ True],\n",
              "       [ True],\n",
              "       [ True]])"
            ]
          },
          "metadata": {},
          "execution_count": 32
        }
      ]
    },
    {
      "cell_type": "code",
      "source": [
        "y_test"
      ],
      "metadata": {
        "id": "8W8nQK4V58Fi",
        "outputId": "3e568e84-fa67-403a-fa2f-bcf84a5ca549",
        "colab": {
          "base_uri": "https://localhost:8080/"
        }
      },
      "execution_count": 33,
      "outputs": [
        {
          "output_type": "execute_result",
          "data": {
            "text/plain": [
              "array([0, 1, 0, 0, 0, 1, 0, 0, 0, 0, 0, 1, 1, 0, 1, 1, 1, 1, 0, 0, 0, 1,\n",
              "       0, 0, 0, 1, 0, 0, 1, 1, 1, 1, 1, 1, 1, 1, 0, 0, 0, 0, 1, 1, 0, 0,\n",
              "       0, 1, 1, 0, 0, 1, 0, 1, 1, 1])"
            ]
          },
          "metadata": {},
          "execution_count": 33
        }
      ]
    },
    {
      "cell_type": "code",
      "source": [
        "# 0 = Bart\n",
        "# 1 = Homer\n",
        "print(classification_report(y_test, previsoes))"
      ],
      "metadata": {
        "id": "6KpFzffC58CS",
        "outputId": "de472455-58b4-443b-ca21-066f5cb5362e",
        "colab": {
          "base_uri": "https://localhost:8080/"
        }
      },
      "execution_count": 34,
      "outputs": [
        {
          "output_type": "stream",
          "name": "stdout",
          "text": [
            "              precision    recall  f1-score   support\n",
            "\n",
            "           0       0.78      0.50      0.61        28\n",
            "           1       0.61      0.85      0.71        26\n",
            "\n",
            "    accuracy                           0.67        54\n",
            "   macro avg       0.69      0.67      0.66        54\n",
            "weighted avg       0.70      0.67      0.66        54\n",
            "\n"
          ]
        }
      ]
    },
    {
      "cell_type": "code",
      "source": [
        "cm = confusion_matrix(y_test, previsoes)"
      ],
      "metadata": {
        "id": "PQydQnxg7TDf"
      },
      "execution_count": 35,
      "outputs": []
    },
    {
      "cell_type": "code",
      "source": [
        "sns.heatmap(cm, annot=True);"
      ],
      "metadata": {
        "id": "2-Na4UnQ7S8S",
        "outputId": "173aeb86-47e8-45ac-d8f3-5ec7f682cf25",
        "colab": {
          "base_uri": "https://localhost:8080/",
          "height": 435
        }
      },
      "execution_count": 36,
      "outputs": [
        {
          "output_type": "display_data",
          "data": {
            "text/plain": [
              "<Figure size 640x480 with 2 Axes>"
            ],
            "image/png": "[encoded data removed]"
          },
          "metadata": {}
        }
      ]
    },
    {
      "cell_type": "markdown",
      "metadata": {
        "id": "F9YQmda-vXWK"
      },
      "source": [
        "## Salvar e carregar a rede neural "
      ]
    },
    {
      "cell_type": "code",
      "execution_count": 37,
      "metadata": {
        "id": "TvZbXHZIvXWK"
      },
      "outputs": [],
      "source": [
        "model = network1.to_json()\n",
        "with open('network1.json', 'w') as json_file:\n",
        "    json_file.write(model)"
      ]
    },
    {
      "cell_type": "code",
      "source": [
        "network1_saved = save_model(network1, 'weights1.hdf5')"
      ],
      "metadata": {
        "id": "Eg5jeZfp374z"
      },
      "execution_count": 38,
      "outputs": []
    },
    {
      "cell_type": "code",
      "source": [
        "with open('network1.json') as json:\n",
        "    network1 = json.read()"
      ],
      "metadata": {
        "id": "GeQghZEs4vD8"
      },
      "execution_count": 39,
      "outputs": []
    },
    {
      "cell_type": "code",
      "source": [
        "network1_loaded = tf.keras.models.model_from_json(network1)\n",
        "network1_loaded.load_weights('/content/weights1.hdf5')"
      ],
      "metadata": {
        "id": "VpmAi7PL5aT2"
      },
      "execution_count": 40,
      "outputs": []
    },
    {
      "cell_type": "code",
      "source": [
        "# recompile \n",
        "network1_loaded.compile(loss='binary_crossentropy', optimizer = 'Adam', metrics = ['acurracy'])"
      ],
      "metadata": {
        "id": "Ei8c_cnR5aQ2"
      },
      "execution_count": 41,
      "outputs": []
    },
    {
      "cell_type": "code",
      "source": [
        "network1_loaded.summary()"
      ],
      "metadata": {
        "id": "qbNVinWI9aar",
        "outputId": "1926b939-c5fb-4494-dd23-c6b1fedb1a89",
        "colab": {
          "base_uri": "https://localhost:8080/"
        }
      },
      "execution_count": 42,
      "outputs": [
        {
          "output_type": "stream",
          "name": "stdout",
          "text": [
            "Model: \"sequential\"\n",
            "_________________________________________________________________\n",
            " Layer (type)                Output Shape              Param #   \n",
            "=================================================================\n",
            " dense (Dense)               (None, 8183)              134078455 \n",
            "                                                                 \n",
            " dense_1 (Dense)             (None, 8193)              67051512  \n",
            "                                                                 \n",
            " dense_2 (Dense)             (None, 1)                 8194      \n",
            "                                                                 \n",
            "=================================================================\n",
            "Total params: 201,138,161\n",
            "Trainable params: 201,138,161\n",
            "Non-trainable params: 0\n",
            "_________________________________________________________________\n"
          ]
        }
      ]
    },
    {
      "cell_type": "code",
      "source": [
        "sample_indices = np.random.choice(X_test.shape[0], size=1, replace=True)\n",
        "sample = X_test[sample_indices]\n",
        "imagem_teste = scaler.inverse_transform(sample.reshape(1, -1))"
      ],
      "metadata": {
        "id": "Z4KZfna7KXGq"
      },
      "execution_count": 65,
      "outputs": []
    },
    {
      "cell_type": "code",
      "source": [
        "cv2_imshow(imagem_teste.reshape(128, 128))"
      ],
      "metadata": {
        "id": "BBuNeTI39rZ5",
        "outputId": "0c91eb8d-c688-43ed-e83b-7b01aa9924c3",
        "colab": {
          "base_uri": "https://localhost:8080/",
          "height": 145
        }
      },
      "execution_count": 66,
      "outputs": [
        {
          "output_type": "display_data",
          "data": {
            "text/plain": [
              "<PIL.Image.Image image mode=L size=128x128 at 0x7F743C2E8FD0>"
            ],
            "image/png": "[encoded data removed]"
          },
          "metadata": {}
        }
      ]
    },
    {
      "cell_type": "markdown",
      "metadata": {
        "id": "QwMd-wj6vXWK"
      },
      "source": [
        "## Prever nova imagem"
      ]
    },
    {
      "cell_type": "code",
      "source": [
        "imagem_teste"
      ],
      "metadata": {
        "id": "1ZDbIZMsLF7d",
        "outputId": "f6ba6073-1467-4852-cf6d-c85250f8a56b",
        "colab": {
          "base_uri": "https://localhost:8080/"
        }
      },
      "execution_count": 67,
      "outputs": [
        {
          "output_type": "execute_result",
          "data": {
            "text/plain": [
              "array([[255., 255., 255., ..., 255., 255., 255.]])"
            ]
          },
          "metadata": {},
          "execution_count": 67
        }
      ]
    },
    {
      "cell_type": "code",
      "execution_count": 68,
      "metadata": {
        "id": "M5YGLMJ7vXWK",
        "outputId": "70a33d02-196d-4483-9a72-79e07799b1fb",
        "colab": {
          "base_uri": "https://localhost:8080/"
        }
      },
      "outputs": [
        {
          "output_type": "stream",
          "name": "stdout",
          "text": [
            "1/1 [==============================] - 0s 18ms/step\n",
            "Bart\n"
          ]
        }
      ],
      "source": [
        "if network1_loaded.predict(imagem_teste)[0][0] < 0.5:\n",
        "    print('Bart')\n",
        "else:\n",
        "    print('Homer')"
      ]
    },
    {
      "cell_type": "code",
      "source": [],
      "metadata": {
        "id": "I7m8suOwLAVD"
      },
      "execution_count": 47,
      "outputs": []
    },
    {
      "cell_type": "code",
      "source": [],
      "metadata": {
        "id": "5VbhY5Q7bLNS"
      },
      "execution_count": null,
      "outputs": []
    },
    {
      "cell_type": "code",
      "source": [],
      "metadata": {
        "id": "KWNGJphobLJx"
      },
      "execution_count": null,
      "outputs": []
    },
    {
      "cell_type": "code",
      "source": [],
      "metadata": {
        "id": "6IhlYnCybLGz"
      },
      "execution_count": null,
      "outputs": []
    },
    {
      "cell_type": "code",
      "source": [],
      "metadata": {
        "id": "356Lp31-bLFb"
      },
      "execution_count": null,
      "outputs": []
    },
    {
      "cell_type": "code",
      "source": [],
      "metadata": {
        "id": "yO9kSIAAbLA7"
      },
      "execution_count": null,
      "outputs": []
    },
    {
      "cell_type": "code",
      "source": [],
      "metadata": {
        "id": "xSw59G0ebK-c"
      },
      "execution_count": null,
      "outputs": []
    },
    {
      "cell_type": "code",
      "source": [],
      "metadata": {
        "id": "MxNhxq5ebK79"
      },
      "execution_count": null,
      "outputs": []
    },
    {
      "cell_type": "code",
      "source": [],
      "metadata": {
        "id": "V5iA6SyRbK4u"
      },
      "execution_count": null,
      "outputs": []
    }
  ],
  "metadata": {
    "kernelspec": {
      "display_name": "Python 3",
      "name": "python3"
    },
    "language_info": {
      "codemirror_mode": {
        "name": "ipython",
        "version": 3
      },
      "file_extension": ".py",
      "mimetype": "text/x-python",
      "name": "python",
      "nbconvert_exporter": "python",
      "pygments_lexer": "ipython3",
      "version": "3.10.6"
    },
    "orig_nbformat": 4,
    "colab": {
      "provenance": [],
      "gpuType": "T4",
      "toc_visible": true
    },
    "accelerator": "GPU"
  },
  "nbformat": 4,
  "nbformat_minor": 0
}