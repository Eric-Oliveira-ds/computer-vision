{
  "cells": [
    {
      "attachments": {},
      "cell_type": "markdown",
      "metadata": {
        "id": "NO2waxMxHYKv"
      },
      "source": [
        "# How to Train a Custom Keypoint Detection Model"
      ]
    },
    {
      "cell_type": "code",
      "execution_count": 1,
      "metadata": {
        "id": "PNAEYRz-MeTD"
      },
      "outputs": [],
      "source": [
        "# imports\n",
        "import cv2\n",
        "import os"
      ]
    },
    {
      "attachments": {},
      "cell_type": "markdown",
      "metadata": {
        "id": "w3Gwkb5CHlfS"
      },
      "source": [
        "## Data Acquisition\n",
        "\n",
        "- Capturar de 50 a 100 imagens do video (braço flexível e mão do soft robot)"
      ]
    },
    {
      "cell_type": "code",
      "execution_count": 2,
      "metadata": {
        "id": "ZisG7y4UHucI"
      },
      "outputs": [],
      "source": [
        "# função para extrair imagens do vídeo\n",
        "\n",
        "def extract_frames(video_path, output_directory, max_frames=None):\n",
        "    # Verificar se o diretório de saída existe, caso contrário, criar\n",
        "    if not os.path.exists(output_directory):\n",
        "        os.makedirs(output_directory)\n",
        "\n",
        "    # Carregar o vídeo\n",
        "    video = cv2.VideoCapture(video_path)\n",
        "    frame_count = 0\n",
        "\n",
        "    while True:\n",
        "        # Ler o próximo frame\n",
        "        ret, frame = video.read()\n",
        "\n",
        "        # Verificar se o frame foi lido corretamente\n",
        "        if not ret:\n",
        "            break\n",
        "\n",
        "        # Salvar o frame como uma imagem\n",
        "        frame_path = os.path.join(output_directory, f\"frame_{frame_count}.jpg\")\n",
        "        cv2.imwrite(frame_path, frame)\n",
        "\n",
        "        # Incrementar o contador de frames\n",
        "        frame_count += 1\n",
        "\n",
        "        # Verificar se o limite de imagens foi atingido\n",
        "        if max_frames is not None and frame_count >= max_frames:\n",
        "            break\n",
        "\n",
        "    # Liberar o vídeo e fechar as janelas abertas\n",
        "    video.release()\n",
        "    cv2.destroyAllWindows()"
      ]
    },
    {
      "cell_type": "code",
      "execution_count": 3,
      "metadata": {
        "id": "vDVOq4bPHuY_"
      },
      "outputs": [],
      "source": [
        "video_path = '/home/eric/projetos pessoais/computer-vision/Train Custom Key Point Detection Model/vídeo/soft robots.mp4'\n",
        "output_directory = 'Train Custom Key Point Detection Model/imagens'\n",
        "max_frames = 100  # Defina o número máximo de imagens a serem extraídas\n",
        "extract_frames(video_path, output_directory, max_frames)"
      ]
    },
    {
      "cell_type": "code",
      "execution_count": null,
      "metadata": {
        "id": "yk90PqYGHuV4"
      },
      "outputs": [],
      "source": []
    },
    {
      "attachments": {},
      "cell_type": "markdown",
      "metadata": {
        "id": "ms0BxIliHnN-"
      },
      "source": [
        "## Labeling"
      ]
    },
    {
      "cell_type": "code",
      "execution_count": null,
      "metadata": {
        "id": "ibEmoXD5JpW5"
      },
      "outputs": [],
      "source": []
    },
    {
      "cell_type": "code",
      "execution_count": null,
      "metadata": {
        "id": "jlmQXSHWJpT6"
      },
      "outputs": [],
      "source": []
    },
    {
      "cell_type": "code",
      "execution_count": null,
      "metadata": {
        "id": "k7rxWSHsJpQp"
      },
      "outputs": [],
      "source": []
    },
    {
      "cell_type": "code",
      "execution_count": null,
      "metadata": {
        "id": "MavoK8lJJpOK"
      },
      "outputs": [],
      "source": []
    },
    {
      "attachments": {},
      "cell_type": "markdown",
      "metadata": {
        "id": "XUHnqFfhHqxP"
      },
      "source": [
        "## Training"
      ]
    },
    {
      "cell_type": "code",
      "execution_count": null,
      "metadata": {
        "id": "FF49vFkRG7__"
      },
      "outputs": [],
      "source": []
    },
    {
      "cell_type": "code",
      "execution_count": null,
      "metadata": {
        "id": "oghMIRweHcbf"
      },
      "outputs": [],
      "source": []
    },
    {
      "cell_type": "code",
      "execution_count": null,
      "metadata": {
        "id": "xs283AZ3JqPw"
      },
      "outputs": [],
      "source": []
    },
    {
      "cell_type": "code",
      "execution_count": null,
      "metadata": {
        "id": "idBCFIQqJqMR"
      },
      "outputs": [],
      "source": []
    },
    {
      "cell_type": "code",
      "execution_count": null,
      "metadata": {
        "id": "023KADDZJqJW"
      },
      "outputs": [],
      "source": []
    },
    {
      "cell_type": "code",
      "execution_count": null,
      "metadata": {
        "id": "CdskHJS9JqGd"
      },
      "outputs": [],
      "source": []
    }
  ],
  "metadata": {
    "accelerator": "GPU",
    "colab": {
      "authorship_tag": "ABX9TyOqyUEDzKoD5AnZQRAVAk2O",
      "gpuType": "T4",
      "include_colab_link": true,
      "mount_file_id": "1zUdZR8c3AKJ73TyzWkLFf-1yoPFqs18P",
      "provenance": []
    },
    "kernelspec": {
      "display_name": "Python 3",
      "name": "python3"
    },
    "language_info": {
      "codemirror_mode": {
        "name": "ipython",
        "version": 3
      },
      "file_extension": ".py",
      "mimetype": "text/x-python",
      "name": "python",
      "nbconvert_exporter": "python",
      "pygments_lexer": "ipython3",
      "version": "3.10.6"
    }
  },
  "nbformat": 4,
  "nbformat_minor": 0
}
