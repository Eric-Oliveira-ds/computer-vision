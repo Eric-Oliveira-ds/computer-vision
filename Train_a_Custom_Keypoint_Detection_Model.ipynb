{
  "nbformat": 4,
  "nbformat_minor": 0,
  "metadata": {
    "colab": {
      "provenance": [],
      "gpuType": "T4",
      "mount_file_id": "1zUdZR8c3AKJ73TyzWkLFf-1yoPFqs18P",
      "authorship_tag": "ABX9TyOqyUEDzKoD5AnZQRAVAk2O",
      "include_colab_link": true
    },
    "kernelspec": {
      "name": "python3",
      "display_name": "Python 3"
    },
    "language_info": {
      "name": "python"
    },
    "accelerator": "GPU"
  },
  "cells": [
    {
      "cell_type": "markdown",
      "metadata": {
        "id": "view-in-github",
        "colab_type": "text"
      },
      "source": [
        "<a href=\"https://colab.research.google.com/github/Eric-Oliveira-ds/computer-vision/blob/main/Train_a_Custom_Keypoint_Detection_Model.ipynb\" target=\"_parent\"><img src=\"https://colab.research.google.com/assets/colab-badge.svg\" alt=\"Open In Colab\"/></a>"
      ]
    },
    {
      "cell_type": "markdown",
      "source": [
        "# How to Train a Custom Keypoint Detection Model"
      ],
      "metadata": {
        "id": "NO2waxMxHYKv"
      }
    },
    {
      "cell_type": "code",
      "source": [
        "# imports\n",
        "import cv2\n",
        "import os"
      ],
      "metadata": {
        "id": "PNAEYRz-MeTD"
      },
      "execution_count": 1,
      "outputs": []
    },
    {
      "cell_type": "markdown",
      "source": [
        "## Data Acquisition\n",
        "\n",
        "- Capturar de 50 a 100 imagens do video (braço flexível e mão do soft robot)"
      ],
      "metadata": {
        "id": "w3Gwkb5CHlfS"
      }
    },
    {
      "cell_type": "code",
      "source": [
        "# função para extrair imagens do vídeo\n",
        "\n",
        "def extract_frames(video_path, output_directory, max_frames=None):\n",
        "    # Verificar se o diretório de saída existe, caso contrário, criar\n",
        "    if not os.path.exists(output_directory):\n",
        "        os.makedirs(output_directory)\n",
        "\n",
        "    # Carregar o vídeo\n",
        "    video = cv2.VideoCapture(video_path)\n",
        "    frame_count = 0\n",
        "\n",
        "    while True:\n",
        "        # Ler o próximo frame\n",
        "        ret, frame = video.read()\n",
        "\n",
        "        # Verificar se o frame foi lido corretamente\n",
        "        if not ret:\n",
        "            break\n",
        "\n",
        "        # Salvar o frame como uma imagem\n",
        "        frame_path = os.path.join(output_directory, f\"frame_{frame_count}.jpg\")\n",
        "        cv2.imwrite(frame_path, frame)\n",
        "\n",
        "        # Incrementar o contador de frames\n",
        "        frame_count += 1\n",
        "\n",
        "        # Verificar se o limite de imagens foi atingido\n",
        "        if max_frames is not None and frame_count >= max_frames:\n",
        "            break\n",
        "\n",
        "    # Liberar o vídeo e fechar as janelas abertas\n",
        "    video.release()\n",
        "    cv2.destroyAllWindows()"
      ],
      "metadata": {
        "id": "ZisG7y4UHucI"
      },
      "execution_count": 2,
      "outputs": []
    },
    {
      "cell_type": "code",
      "source": [
        "video_path = '/content/drive/MyDrive/Train Custom Key Point Detection Model/vídeo'\n",
        "output_directory = '/content/drive/MyDrive/Train Custom Key Point Detection Model/imagens'\n",
        "max_frames = 100  # Defina o número máximo de imagens a serem extraídas\n",
        "extract_frames(video_path, output_directory, max_frames)"
      ],
      "metadata": {
        "id": "vDVOq4bPHuY_"
      },
      "execution_count": 3,
      "outputs": []
    },
    {
      "cell_type": "code",
      "source": [],
      "metadata": {
        "id": "yk90PqYGHuV4"
      },
      "execution_count": null,
      "outputs": []
    },
    {
      "cell_type": "markdown",
      "source": [
        "## Labeling"
      ],
      "metadata": {
        "id": "ms0BxIliHnN-"
      }
    },
    {
      "cell_type": "code",
      "source": [],
      "metadata": {
        "id": "ibEmoXD5JpW5"
      },
      "execution_count": null,
      "outputs": []
    },
    {
      "cell_type": "code",
      "source": [],
      "metadata": {
        "id": "jlmQXSHWJpT6"
      },
      "execution_count": null,
      "outputs": []
    },
    {
      "cell_type": "code",
      "source": [],
      "metadata": {
        "id": "k7rxWSHsJpQp"
      },
      "execution_count": null,
      "outputs": []
    },
    {
      "cell_type": "code",
      "source": [],
      "metadata": {
        "id": "MavoK8lJJpOK"
      },
      "execution_count": null,
      "outputs": []
    },
    {
      "cell_type": "markdown",
      "source": [
        "## Training"
      ],
      "metadata": {
        "id": "XUHnqFfhHqxP"
      }
    },
    {
      "cell_type": "code",
      "execution_count": null,
      "metadata": {
        "id": "FF49vFkRG7__"
      },
      "outputs": [],
      "source": []
    },
    {
      "cell_type": "code",
      "source": [],
      "metadata": {
        "id": "oghMIRweHcbf"
      },
      "execution_count": null,
      "outputs": []
    },
    {
      "cell_type": "code",
      "source": [],
      "metadata": {
        "id": "xs283AZ3JqPw"
      },
      "execution_count": null,
      "outputs": []
    },
    {
      "cell_type": "code",
      "source": [],
      "metadata": {
        "id": "idBCFIQqJqMR"
      },
      "execution_count": null,
      "outputs": []
    },
    {
      "cell_type": "code",
      "source": [],
      "metadata": {
        "id": "023KADDZJqJW"
      },
      "execution_count": null,
      "outputs": []
    },
    {
      "cell_type": "code",
      "source": [],
      "metadata": {
        "id": "CdskHJS9JqGd"
      },
      "execution_count": null,
      "outputs": []
    }
  ]
}